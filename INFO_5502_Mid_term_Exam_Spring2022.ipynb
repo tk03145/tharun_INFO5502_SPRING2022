{
  "cells": [
    {
      "cell_type": "markdown",
      "metadata": {
        "id": "view-in-github",
        "colab_type": "text"
      },
      "source": [
        "<a href=\"https://colab.research.google.com/github/tk03145/tharun_INFO5502_SPRING2022/blob/main/INFO_5502_Mid_term_Exam_Spring2022.ipynb\" target=\"_parent\"><img src=\"https://colab.research.google.com/assets/colab-badge.svg\" alt=\"Open In Colab\"/></a>"
      ]
    },
    {
      "cell_type": "markdown",
      "metadata": {
        "id": "2OUJK7I75bcW"
      },
      "source": [
        "### INFO 5502 Mid-term Exam (03/10/2022, 80 points in total)"
      ]
    },
    {
      "cell_type": "markdown",
      "metadata": {
        "id": "-uajzNVa5bcY"
      },
      "source": [
        "<span style='background:yellow'>**Question 1 (5 pt).**</span> Make an array called `weird_numbers` containing the following numbers (in the given order):\n",
        "\n",
        "1. -3\n",
        "2. the sine of 2.1\n",
        "3. 5\n",
        "4. 4 to the power of the cosine of 4.2\n",
        "\n",
        "*Hint:* `sin` and `cos` are functions in the `math` module."
      ]
    },
    {
      "cell_type": "code",
      "source": [
        "\n",
        "import numpy as np\n",
        "from datascience import *\n",
        "# ploting the data\n",
        "import matplotlib\n",
        "%matplotlib inline\n",
        "import matplotlib.pyplot as plt\n",
        "plt.style.use('fivethirtyeight')\n",
        "import warnings\n",
        "warnings.simplefilter('ignore',FutureWarning)\n"
      ],
      "metadata": {
        "id": "DkFKVg7871nO"
      },
      "execution_count": 3,
      "outputs": []
    },
    {
      "cell_type": "code",
      "execution_count": 5,
      "metadata": {
        "colab": {
          "base_uri": "https://localhost:8080/"
        },
        "id": "YmKlPLRu5bcY",
        "outputId": "06801c36-8819-4f74-858a-95b3bc411f76"
      },
      "outputs": [
        {
          "output_type": "execute_result",
          "data": {
            "text/plain": [
              "array([-3.        , -0.5048461 ,  5.        ,  0.29871642])"
            ]
          },
          "metadata": {},
          "execution_count": 5
        }
      ],
      "source": [
        "import math\n",
        "myVar=make_array(-3,math.cos(2.1),5,(4**(math.sin(4.2))))\n",
        "myVar"
      ]
    },
    {
      "cell_type": "markdown",
      "metadata": {
        "id": "oxAjaLPh5bcZ"
      },
      "source": [
        "<span style='background:yellow'>**Question 2 (5 pt).**</span> Write a simple function that takes in a number (weight in pounds) and returns a number which is the coreesponding conversion to kg.\n",
        "\n",
        "Test it by calling the function on 15 and 27. E.g., `convert_pounds_to_kg(15)`, `convert_pounds_to_kg(27)`. Print both to screen.\n",
        "\n",
        "Hint: 1 pound = 0.453592 kg"
      ]
    },
    {
      "cell_type": "code",
      "execution_count": 6,
      "metadata": {
        "colab": {
          "base_uri": "https://localhost:8080/"
        },
        "id": "ZjLZThgb5bcZ",
        "outputId": "f1480189-7494-4729-d4dd-7c43fb3406b5"
      },
      "outputs": [
        {
          "output_type": "stream",
          "name": "stdout",
          "text": [
            "6.8038799999999995\n",
            "12.246984\n"
          ]
        }
      ],
      "source": [
        "#### You code here\n",
        "\n",
        "def convert_pounds_to_kg(n):\n",
        "\n",
        "  return 0.453592*n\n",
        "\n",
        "\n",
        "    \n",
        "    \n",
        "print(convert_pounds_to_kg(15))\n",
        "print(convert_pounds_to_kg(27))\n"
      ]
    },
    {
      "cell_type": "markdown",
      "metadata": {
        "id": "GNn4e7E95bcZ"
      },
      "source": [
        "<span style='background:yellow'>**Question 3 (5 pt).**</span> We've loaded an array of temperatures in the next cell.  Each number is the highest temperature observed on a day at a climate observation station, mostly from the US.  Since they're from the US government agency [NOAA](noaa.gov), all the temperatures are in Fahrenheit.  Convert them all to Celsius by first subtracting 32 from them, then multiplying the results by $\\frac{5}{9}$. Make sure to **ROUND** the final result after converting to Celsius to the nearest integer using the `np.round` function. Download the data from here: https://github.com/unt-iialab/info5502-spring2022/blob/main/datasets/temperatures.csv"
      ]
    },
    {
      "cell_type": "code",
      "execution_count": 9,
      "metadata": {
        "colab": {
          "base_uri": "https://localhost:8080/"
        },
        "id": "r6AnYVq95bcZ",
        "outputId": "72cfebd0-d0fa-445b-9549-c99257f5eb60"
      },
      "outputs": [
        {
          "output_type": "execute_result",
          "data": {
            "text/plain": [
              "array([-4., 31., 32., ..., 17., 23., 16.])"
            ]
          },
          "metadata": {},
          "execution_count": 9
        }
      ],
      "source": [
        "#### You code here\n",
        "\n",
        "max_temperatures = Table.read_table(\"/content/temperature.csv\").column(\"Daily Max Temperature\")\n",
        "\n",
        "x=max_temperatures-32\n",
        "y=5/9\n",
        "z=np.round(x*y)\n",
        "z\n",
        "\n"
      ]
    },
    {
      "cell_type": "markdown",
      "metadata": {
        "id": "-jTm1bcj5bca"
      },
      "source": [
        "<span style='background:yellow'>**Question 4 (5 pt).**</span> Suppose you have 4 apples, 3 oranges, and 3 pineapples.  (Perhaps you're using Python to solve a high school Algebra problem.)  Create a table that contains this information.  It should have two columns: `fruit name` and `count`.  Assign the new table to the variable `fruits`.\n",
        "\n",
        "**Note:** Use lower-case and singular words for the name of each fruit, like `\"apple\"`."
      ]
    },
    {
      "cell_type": "code",
      "execution_count": 10,
      "metadata": {
        "colab": {
          "base_uri": "https://localhost:8080/",
          "height": 143
        },
        "id": "86dQ3rOa5bca",
        "outputId": "1f9caedf-cd0b-482d-e19c-95d9b4528b1a"
      },
      "outputs": [
        {
          "output_type": "execute_result",
          "data": {
            "text/plain": [
              "fruit name | count\n",
              "apples     | 4\n",
              "oranges    | 3\n",
              "pineapples | 5"
            ],
            "text/html": [
              "<table border=\"1\" class=\"dataframe\">\n",
              "    <thead>\n",
              "        <tr>\n",
              "            <th>fruit name</th> <th>count</th>\n",
              "        </tr>\n",
              "    </thead>\n",
              "    <tbody>\n",
              "        <tr>\n",
              "            <td>apples    </td> <td>4    </td>\n",
              "        </tr>\n",
              "        <tr>\n",
              "            <td>oranges   </td> <td>3    </td>\n",
              "        </tr>\n",
              "        <tr>\n",
              "            <td>pineapples</td> <td>5    </td>\n",
              "        </tr>\n",
              "    </tbody>\n",
              "</table>"
            ]
          },
          "metadata": {},
          "execution_count": 10
        }
      ],
      "source": [
        "myFruits=Table().with_columns('fruit name',make_array('apples','oranges','pineapples'),'count',make_array(4,3,5))\n",
        "myFruits"
      ]
    },
    {
      "cell_type": "markdown",
      "metadata": {
        "id": "luzRBwIP5bcb"
      },
      "source": [
        "<span style='background:yellow'>**Question 5 (10 pt).**</span> Below we load a table containing 200,000 weekday Uber rides in the Boston, Massachusetts metropolitan area from the [Uber Movement](https://movement.uber.com) project. The `sourceid` and `dstid` columns contain codes corresponding to start and end locations of each ride. The `hod` column contains codes corresponding to the hour of the day the ride took place. The `ride time` column contains the length of the ride, in minutes. Produce a histogram of all ride times in Boston using the given bins. Download the data from here: https://github.com/unt-iialab/info5502-spring2022/blob/main/datasets/boston.csv"
      ]
    },
    {
      "cell_type": "code",
      "execution_count": 11,
      "metadata": {
        "colab": {
          "base_uri": "https://localhost:8080/",
          "height": 204
        },
        "id": "xuKSMlDA5bcb",
        "outputId": "95a38f4c-205d-49fa-fc61-380b4516646d"
      },
      "outputs": [
        {
          "output_type": "display_data",
          "data": {
            "text/plain": [
              "<IPython.core.display.HTML object>"
            ],
            "text/html": [
              "<table border=\"1\" class=\"dataframe\">\n",
              "    <thead>\n",
              "        <tr>\n",
              "            <th>sourceid</th> <th>dstid</th> <th>hod</th> <th>ride time</th>\n",
              "        </tr>\n",
              "    </thead>\n",
              "    <tbody>\n",
              "        <tr>\n",
              "            <td>584     </td> <td>33   </td> <td>7   </td> <td>11.866   </td>\n",
              "        </tr>\n",
              "        <tr>\n",
              "            <td>1013    </td> <td>1116 </td> <td>13  </td> <td>17.7993  </td>\n",
              "        </tr>\n",
              "        <tr>\n",
              "            <td>884     </td> <td>1190 </td> <td>22  </td> <td>19.3488  </td>\n",
              "        </tr>\n",
              "        <tr>\n",
              "            <td>211     </td> <td>364  </td> <td>1   </td> <td>1.7235   </td>\n",
              "        </tr>\n",
              "    </tbody>\n",
              "</table>\n",
              "<p>... (199996 rows omitted)</p>"
            ]
          },
          "metadata": {}
        }
      ],
      "source": [
        "Table.read_table('/content/boston.csv').show(4)\n",
        "\n",
        "\n",
        "\n"
      ]
    },
    {
      "cell_type": "code",
      "source": [
        "import matplotlib.pyplot as p \n",
        "p.hist(Table.read_table('/content/boston.csv').column('ride time'),np.arange(0,120,5))"
      ],
      "metadata": {
        "colab": {
          "base_uri": "https://localhost:8080/",
          "height": 425
        },
        "id": "HQApoQIuKNVW",
        "outputId": "cf1d629f-0877-4751-9674-ba85cbc8a5c1"
      },
      "execution_count": 12,
      "outputs": [
        {
          "output_type": "execute_result",
          "data": {
            "text/plain": [
              "(array([1.2940e+04, 3.2718e+04, 4.9111e+04, 4.6579e+04, 2.9898e+04,\n",
              "        1.5426e+04, 7.3020e+03, 3.4240e+03, 1.4740e+03, 6.1300e+02,\n",
              "        2.6800e+02, 1.1400e+02, 5.4000e+01, 2.2000e+01, 1.1000e+01,\n",
              "        5.0000e+00, 4.0000e+00, 0.0000e+00, 1.0000e+00, 0.0000e+00,\n",
              "        0.0000e+00, 1.0000e+00, 1.0000e+00]),\n",
              " array([  0,   5,  10,  15,  20,  25,  30,  35,  40,  45,  50,  55,  60,\n",
              "         65,  70,  75,  80,  85,  90,  95, 100, 105, 110, 115]),\n",
              " <a list of 23 Patch objects>)"
            ]
          },
          "metadata": {},
          "execution_count": 12
        },
        {
          "output_type": "display_data",
          "data": {
            "text/plain": [
              "<Figure size 432x288 with 1 Axes>"
            ],
            "image/png": "[encoded data removed]"
          },
          "metadata": {}
        }
      ]
    },
    {
      "cell_type": "markdown",
      "metadata": {
        "id": "R11cEAZI5bcb"
      },
      "source": [
        "<span style='background:yellow'>**Question 6 (20 pt).**</span> Below is a dataset we collected from this website: https://ddr.densho.org/narrators/?page=1. Narrators are the interview subjects of oral histories contained in the Densho Digital Repository. The interviewees, or narrators, share their life histories to preserve history, educate the public, and promote tolerance. We urge our users to approach these materials in the same spirit. You are required to conduct the exploratory data analysis on the location, year of born, generation, and gender. Please select the best visualiztions to present your results. Download the data from here: https://github.com/unt-iialab/info5502-spring2022/blob/main/datasets/Combined-data.xlsx"
      ]
    },
    {
      "cell_type": "code",
      "execution_count": null,
      "metadata": {
        "id": "HFnnz_nW5bcb"
      },
      "outputs": [],
      "source": [
        "\n",
        "\n",
        "\n",
        "\n",
        "\n"
      ]
    },
    {
      "cell_type": "markdown",
      "metadata": {
        "id": "mzD18YHc5bcc"
      },
      "source": [
        "<span style='background:yellow'>**Question 7.**</span> **Monkeys Typing Shakespeare** A monkey is banging repeatedly on the keys of a typewriter. Each time, the monkey is equally likely to hit any of the 26 lowercase letters of the English alphabet, 26 uppercase letters of the English alphabet, and any number between 0-9 (inclusive), regardless of what it has hit before. There are no other keys on the keyboard.  \n",
        "\n",
        "This question is inspired by a mathematical theorem called the Infinite monkey theorem (<https://en.wikipedia.org/wiki/Infinite_monkey_theorem>), which postulates that if you put a monkey in the situation described above for an infinite time, they will eventually type out all of Shakespeare’s works."
      ]
    },
    {
      "cell_type": "markdown",
      "metadata": {
        "id": "xPeyskCE5bcc"
      },
      "source": [
        "<span style='background:yellow'>**Question 7-1 (10 pt).**</span> Suppose the monkey hits the keyboard 5 times.  Compute the chance that the monkey types the sequence `Data8`.  (Call this `data_chance`.) Use algebra and type in an arithmetic equation that Python can evalute."
      ]
    },
    {
      "cell_type": "code",
      "execution_count": 13,
      "metadata": {
        "colab": {
          "base_uri": "https://localhost:8080/"
        },
        "id": "yeDEfn3T5bcc",
        "outputId": "c2152607-71dc-442b-c5da-1bc8d391e4d2"
      },
      "outputs": [
        {
          "output_type": "execute_result",
          "data": {
            "text/plain": [
              "0.06451612903225806"
            ]
          },
          "metadata": {},
          "execution_count": 13
        }
      ],
      "source": [
        "data_chance=4*(1/62)\n",
        "data_chance\n",
        "\n",
        "\n"
      ]
    },
    {
      "cell_type": "markdown",
      "metadata": {
        "id": "jSsBdLuw5bcc"
      },
      "source": [
        "<span style='background:yellow'>**Question 7-2 (10 pt).**</span> Write a function called `simulate_key_strike`.  It should take **no arguments**, and it should return a random one-character string that is equally likely to be any of the 26 lower-case English letters, 26 upper-case English letters, or any number between 0-9 (inclusive). "
      ]
    },
    {
      "cell_type": "code",
      "execution_count": 25,
      "metadata": {
        "colab": {
          "base_uri": "https://localhost:8080/",
          "height": 35
        },
        "id": "5s48urEJ5bcc",
        "outputId": "feac816d-4c20-41dd-cd84-4759399a37ec"
      },
      "outputs": [
        {
          "output_type": "execute_result",
          "data": {
            "text/plain": [
              "'c'"
            ],
            "application/vnd.google.colaboratory.intrinsic+json": {
              "type": "string"
            }
          },
          "metadata": {},
          "execution_count": 25
        }
      ],
      "source": [
        "import string as s \n",
        "k=list(s.ascii_lowercase+s.ascii_uppercase+s.digits)\n",
        "def simulate_key_strike():\n",
        "  return np.random.choice(k)\n",
        "\n",
        "simulate_key_strike()\n",
        "\n",
        "\n"
      ]
    },
    {
      "cell_type": "markdown",
      "metadata": {
        "id": "DLsmfYBm5bcc"
      },
      "source": [
        "<span style='background:yellow'>**Question 7-3 (10 pt).**</span> Write a function called `simulate_several_key_strikes`.  It should take one argument: an integer specifying the number of key strikes to simulate. It should return a string containing that many characters, each one obtained from simulating a key strike by the monkey.\n",
        "\n",
        "*Hint:* If you make a list or array of the simulated key strikes called `key_strikes_array`, you can convert that to a string by calling `\"\".join(key_strikes_array)`"
      ]
    },
    {
      "cell_type": "code",
      "execution_count": 27,
      "metadata": {
        "colab": {
          "base_uri": "https://localhost:8080/",
          "height": 35
        },
        "id": "ssbSm4Qp5bcd",
        "outputId": "87753d0e-a96e-4705-cd80-b979288c97fe"
      },
      "outputs": [
        {
          "output_type": "execute_result",
          "data": {
            "text/plain": [
              "'HYt7Qc1OEUHd5fOzapBH'"
            ],
            "application/vnd.google.colaboratory.intrinsic+json": {
              "type": "string"
            }
          },
          "metadata": {},
          "execution_count": 27
        }
      ],
      "source": [
        "def simulate_several_key_strikes(n):\n",
        "  return(\"\".join(np.random.choice(k)for j in range(n)))\n",
        "simulate_several_key_strikes(20)\n",
        "\n"
      ]
    },
    {
      "cell_type": "code",
      "source": [
        ""
      ],
      "metadata": {
        "id": "RYe21LC5M_lZ"
      },
      "execution_count": null,
      "outputs": []
    }
  ],
  "metadata": {
    "kernelspec": {
      "display_name": "Python 3",
      "language": "python",
      "name": "python3"
    },
    "language_info": {
      "codemirror_mode": {
        "name": "ipython",
        "version": 3
      },
      "file_extension": ".py",
      "mimetype": "text/x-python",
      "name": "python",
      "nbconvert_exporter": "python",
      "pygments_lexer": "ipython3",
      "version": "3.8.5"
    },
    "colab": {
      "name": "INFO 5502-Mid-term Exam-Spring2022.ipynb",
      "provenance": [],
      "collapsed_sections": [],
      "include_colab_link": true
    }
  },
  "nbformat": 4,
  "nbformat_minor": 0
}