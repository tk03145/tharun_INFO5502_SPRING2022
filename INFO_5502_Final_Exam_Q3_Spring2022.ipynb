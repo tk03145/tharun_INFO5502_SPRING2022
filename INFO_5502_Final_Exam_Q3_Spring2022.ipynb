{
  "cells": [
    {
      "cell_type": "markdown",
      "metadata": {
        "id": "view-in-github",
        "colab_type": "text"
      },
      "source": [
        "<a href=\"https://colab.research.google.com/github/tk03145/tharun_INFO5502_SPRING2022/blob/main/INFO_5502_Final_Exam_Q3_Spring2022.ipynb\" target=\"_parent\"><img src=\"https://colab.research.google.com/assets/colab-badge.svg\" alt=\"Open In Colab\"/></a>"
      ]
    },
    {
      "cell_type": "markdown",
      "id": "f42f252b",
      "metadata": {
        "id": "f42f252b"
      },
      "source": [
        "<span style='background:yellow'>**Question 3 (100 pt, each sub-question is 10 pt).**</span> \n",
        "\n",
        "Part A: Given Inetd dataset, an intrusion detection dataset that contains 2 columns. The first column represents a process ID number (PID) and the second column represents a system call. The goal is to extract the entire system call sequence by its PID, then tokenize and parse each sequence into 25-grams. After this, we’ll split the data into training and testing sets. Next, we ensure data quality in the training dataset by removing duplicate sequences within each class and overlapped sequences between both classes. To ensure a fair evaluation, we also clean the testing set by repeating the previous step. You will implement a Decision Tree model to train and test on the training set and testing set that we just clean. \n",
        "\n",
        "\n",
        "Part B: As the data type is sequential, we want to know how similar the sequences from both classes are and visualize how the similarity scores vary in different sequence lengths. Compute a cosine similarity score of 100 random pairs from both classes and get a median cosine similarity. Repeat this step in different sequence lengths (5, 10, 15, and 20). Plot a line chart to visualize how the median cosine similarities vary through sequence lengths of 5 to 25. \n",
        "\n",
        "You can download the datasets from github: https://github.com/unt-iialab/info5502-spring2022/tree/main/finalexam/q4\n",
        "\n",
        "\n",
        "Step by step instructions and questions:\n",
        "\n",
        "(1) Attached are the Normal and Intrusion data folders. Read in the data and store them in two separate dataframes. Combine the system calls (the second column) from the same PID (the first column) into a sequence or a string. \n",
        "\n",
        "(2) Parse an entire sequence into smaller sequences of size 25. (Hint: Use word_tokenize and ngrams from nltk library to parse).\n",
        "\n",
        "(3) Add labels to the data, and partition the labeled data into training data and testing data with a ratio of 70/30.\n",
        "\n",
        "(4) As the dataset has a lot of duplicate sequences, make sure that the testing data only contain unique sequences and that these sequences do not exist in the training data. Condense training data and testing data into two sets. Take the difference between the testing set and training set to remove the overlapped sequences from the testing data. \n",
        "\n",
        "(5) The sequences from each class can be repetitive, and some of these sequences may have different labels. Therefore, we need to remove the duplicate sequences within each class and the overlapped sequences from the Intrusion class. Start out by separating the Normal class and Intrusion class in the training data. Use the same concept in Question 4 to remove duplicate sequences and overlapped sequences from the training data.\n",
        "\n",
        "(6) Repeat Question 5 to clean the testing data.\n",
        "\n",
        "(7) Bootstrap the training data to get the same number of sequences from each class. Train and evaluate a Decision Tree model using the training data and testing data that we just clean. How is the performance?\n",
        "\n",
        "(8) Randomly sample 100 pairs of sequences from both classes and calculate the median cosine similarity.\n",
        "\n",
        "(9) Refer back to Question 2, parse the data into a length of 5, 10, 15, and 20. Clean the data from each class using Question 5. For each sequence length, calculate the median cosine similarity of 100 random pairs of sequences from both classes. \n",
        "\n",
        "(10) Plot a line chart to visualize how the median cosine similarities vary through different sequence lengths from 5 to 25.\n"
      ]
    },
    {
      "cell_type": "code",
      "execution_count": 4,
      "id": "5f20d853",
      "metadata": {
        "colab": {
          "base_uri": "https://localhost:8080/"
        },
        "id": "5f20d853",
        "outputId": "fc65de60-4d7a-45d8-9204-d78dda856049"
      },
      "outputs": [
        {
          "output_type": "stream",
          "name": "stdout",
          "text": [
            "   PID  SystemCalls\n",
            "0  167           90\n",
            "1  167          125\n",
            "\n",
            "   PID  SystemCalls\n",
            "0  167           90\n",
            "1  167          125\n"
          ]
        }
      ],
      "source": [
        "import pandas as pd\n",
        "import numpy as np\n",
        "in_data = pd.read_csv(\"https://raw.githubusercontent.com/unt-iialab/info5502-spring2022/main/finalexam/q4/inetd-intrusion.int\", sep = \" \", header = None)\n",
        "n_data = pd.read_csv(\"https://raw.githubusercontent.com/unt-iialab/info5502-spring2022/main/finalexam/q4/inetd-normal.int\", sep = \" \", header = None)\n",
        "in_data.columns = ['PID', 'SystemCalls']\n",
        "n_data.columns = ['PID', 'SystemCalls']\n",
        "print(in_data.head(2))\n",
        "print()\n",
        "print(n_data.head(2))\n"
      ]
    },
    {
      "cell_type": "code",
      "execution_count": 5,
      "id": "8a61c7eb",
      "metadata": {
        "colab": {
          "base_uri": "https://localhost:8080/"
        },
        "id": "8a61c7eb",
        "outputId": "71a48f08-e721-4baa-e8e9-828bb7728f56"
      },
      "outputs": [
        {
          "output_type": "stream",
          "name": "stdout",
          "text": [
            "(8371, 2)\n",
            "(541, 2)\n"
          ]
        }
      ],
      "source": [
        "print(in_data.shape)\n",
        "print(n_data.shape)"
      ]
    },
    {
      "cell_type": "code",
      "execution_count": 12,
      "id": "1577b114",
      "metadata": {
        "colab": {
          "base_uri": "https://localhost:8080/",
          "height": 35
        },
        "id": "1577b114",
        "outputId": "486d6253-96f3-4838-9c24-baf6f92c36c3"
      },
      "outputs": [
        {
          "output_type": "execute_result",
          "data": {
            "text/plain": [
              "'90 125 125 106 5 90 6 5 3 90 90 90 90 6 125 91 125 125 125 136 49 24 47 50 45 45 5 106 106 106 106 106 2 1'"
            ],
            "application/vnd.google.colaboratory.intrinsic+json": {
              "type": "string"
            }
          },
          "metadata": {},
          "execution_count": 12
        }
      ],
      "source": [
        "in_dict = {}\n",
        "n_dict = {}\n",
        "for pid in list(set(in_data['PID'].values)):\n",
        "    in_dict[pid] = \" \".join(str(value) for value in list(in_data[in_data['PID'] == pid]['SystemCalls'].values))\n",
        "\n",
        "for pid in list(set(n_data['PID'].values)):\n",
        "    n_dict[pid] = \" \".join(str(value) for value in list(n_data[n_data['PID'] == pid]['SystemCalls'].values))\n",
        "\n",
        "in_dict[167]"
      ]
    },
    {
      "cell_type": "code",
      "execution_count": 21,
      "id": "6973ca24",
      "metadata": {
        "colab": {
          "base_uri": "https://localhost:8080/"
        },
        "id": "6973ca24",
        "outputId": "0c02c260-9748-4006-8009-8858e3165cbc"
      },
      "outputs": [
        {
          "output_type": "stream",
          "name": "stdout",
          "text": [
            "7627\n",
            "469\n"
          ]
        }
      ],
      "source": [
        "import re\n",
        "from nltk.util import ngrams\n",
        "in_list = []\n",
        "n_list = []\n",
        "\n",
        "\n",
        "\n",
        "for key in in_dict.keys():\n",
        "    a = in_dict[key]\n",
        "    tokens = [token for token in a.split(\" \") if token != \"\"]\n",
        "    \n",
        "    for ele in list(ngrams(tokens, 25)):\n",
        "        in_list.append(ele)\n",
        "        \n",
        "for key in n_dict.keys():\n",
        "    a = n_dict[key]\n",
        "    tokens = [token for token in a.split(\" \") if token != \"\"]\n",
        "    \n",
        "    for ele in list(ngrams(tokens, 25)):\n",
        "        n_list.append(ele) \n",
        "\n",
        "print(len(in_list))\n",
        "print(len(n_list))"
      ]
    },
    {
      "cell_type": "code",
      "execution_count": 22,
      "id": "b962057a",
      "metadata": {
        "colab": {
          "base_uri": "https://localhost:8080/"
        },
        "id": "b962057a",
        "outputId": "63851d7b-8428-4a72-c228-bdc0e908c70b"
      },
      "outputs": [
        {
          "output_type": "stream",
          "name": "stdout",
          "text": [
            "(7627, 26)\n",
            "(469, 26)\n"
          ]
        }
      ],
      "source": [
        "in_df = pd.DataFrame(in_list)\n",
        "n_df = pd.DataFrame(n_list)\n",
        "in_df['class'] = 1\n",
        "n_df['class'] = 0\n",
        "print(in_df.shape)\n",
        "print(n_df.shape)"
      ]
    },
    {
      "cell_type": "code",
      "execution_count": 23,
      "id": "07983f99",
      "metadata": {
        "colab": {
          "base_uri": "https://localhost:8080/"
        },
        "id": "07983f99",
        "outputId": "a7ab729f-244a-484a-c8c4-00e4e02eb0b7"
      },
      "outputs": [
        {
          "output_type": "stream",
          "name": "stdout",
          "text": [
            "(8096, 26)\n"
          ]
        }
      ],
      "source": [
        "comb_df = pd.DataFrame()\n",
        "comb_df = comb_df.append(in_df)\n",
        "comb_df = comb_df.append(n_df)\n",
        "print(comb_df.shape)"
      ]
    },
    {
      "cell_type": "code",
      "execution_count": 24,
      "id": "4f09bbfb",
      "metadata": {
        "colab": {
          "base_uri": "https://localhost:8080/"
        },
        "id": "4f09bbfb",
        "outputId": "b5a115c9-c5f0-4ae3-d1d4-5f8adbc49271"
      },
      "outputs": [
        {
          "output_type": "execute_result",
          "data": {
            "text/plain": [
              "(333, 26)"
            ]
          },
          "metadata": {},
          "execution_count": 24
        }
      ],
      "source": [
        "comb_df = comb_df.drop_duplicates(subset = comb_df.columns[:-1], keep = 'last')\n",
        "comb_df.shape"
      ]
    },
    {
      "cell_type": "code",
      "execution_count": 25,
      "id": "f46f9e88",
      "metadata": {
        "colab": {
          "base_uri": "https://localhost:8080/"
        },
        "id": "f46f9e88",
        "outputId": "16ad2c12-d788-47e9-a102-7b26ccf279ec"
      },
      "outputs": [
        {
          "output_type": "execute_result",
          "data": {
            "text/plain": [
              "1    177\n",
              "0    156\n",
              "Name: class, dtype: int64"
            ]
          },
          "metadata": {},
          "execution_count": 25
        }
      ],
      "source": [
        "comb_df['class'].value_counts()"
      ]
    },
    {
      "cell_type": "code",
      "execution_count": 26,
      "id": "1ffbfe89",
      "metadata": {
        "colab": {
          "base_uri": "https://localhost:8080/"
        },
        "id": "1ffbfe89",
        "outputId": "a26e3f4b-5746-40b6-b4fb-be8c6d080579"
      },
      "outputs": [
        {
          "output_type": "execute_result",
          "data": {
            "text/plain": [
              "Index([ 0,  1,  2,  3,  4,  5,  6,  7,  8,  9, 10, 11, 12, 13, 14, 15, 16, 17,\n",
              "       18, 19, 20, 21, 22, 23, 24],\n",
              "      dtype='object')"
            ]
          },
          "metadata": {},
          "execution_count": 26
        }
      ],
      "source": [
        "comb_df.columns[:-1]"
      ]
    },
    {
      "cell_type": "code",
      "execution_count": 29,
      "id": "3065143a",
      "metadata": {
        "colab": {
          "base_uri": "https://localhost:8080/"
        },
        "id": "3065143a",
        "outputId": "2f2d440d-cf70-442f-8fbf-e37a58a7ebc3"
      },
      "outputs": [
        {
          "output_type": "stream",
          "name": "stdout",
          "text": [
            "              precision    recall  f1-score   support\n",
            "\n",
            "           0       0.75      0.82      0.78        22\n",
            "           1       0.91      0.87      0.89        45\n",
            "\n",
            "    accuracy                           0.85        67\n",
            "   macro avg       0.83      0.84      0.83        67\n",
            "weighted avg       0.86      0.85      0.85        67\n",
            "\n"
          ]
        }
      ],
      "source": [
        "\n",
        "from sklearn.tree import DecisionTreeClassifier\n",
        "from sklearn import preprocessing\n",
        "from sklearn.metrics import classification_report\n",
        "from sklearn.model_selection import train_test_split\n",
        "c = comb_df.drop(\"class\", axis = 1)\n",
        "d = comb_df['class']\n",
        "c_train, c_valid, d_train, d_valid = train_test_split(c, d, test_size = 0.2, random_state = 0)\n",
        "dtclassifier = DecisionTreeClassifier(max_depth = 10)\n",
        "dtclassifier.fit(c_train, d_train)\n",
        "d_pred = dtclassifier.predict(c_valid)\n",
        "print(classification_report(d_valid,d_pred))\n"
      ]
    },
    {
      "cell_type": "markdown",
      "id": "6dbdd51a",
      "metadata": {
        "id": "6dbdd51a"
      },
      "source": [
        "# Similarity scores for NGram range of 5 to 25"
      ]
    },
    {
      "cell_type": "code",
      "execution_count": 41,
      "id": "0cf89814",
      "metadata": {
        "colab": {
          "base_uri": "https://localhost:8080/"
        },
        "id": "0cf89814",
        "outputId": "53c4430e-cbfb-46d7-b8b4-4e09fb00a873"
      },
      "outputs": [
        {
          "output_type": "stream",
          "name": "stdout",
          "text": [
            "(8776, 6)\n",
            "\n",
            "(168, 6)\n",
            "\n",
            "0.7684204174984586\n",
            "\n",
            "(8606, 11)\n",
            "\n",
            "(213, 11)\n",
            "\n",
            "0.7306204926276274\n",
            "\n",
            "(8436, 16)\n",
            "\n",
            "(254, 16)\n",
            "\n",
            "0.7142632182124833\n",
            "\n",
            "(8266, 21)\n",
            "\n",
            "(293, 21)\n",
            "\n",
            "0.7415398690201167\n",
            "\n",
            "(8096, 26)\n",
            "\n",
            "(333, 26)\n",
            "\n",
            "0.7179311775203765\n",
            "\n"
          ]
        }
      ],
      "source": [
        "import re\n",
        "from nltk.util import ngrams\n",
        "import pandas as pd\n",
        "\n",
        "cosine_similar_ngram = {}\n",
        "\n",
        "for ngram in range(5, 26, 5):\n",
        "\n",
        "    in_data = pd.read_csv(\"https://raw.githubusercontent.com/unt-iialab/info5502-spring2022/main/finalexam/q4/inetd-intrusion.int\", sep = \" \", header = None)\n",
        "    n_data = pd.read_csv(\"https://raw.githubusercontent.com/unt-iialab/info5502-spring2022/main/finalexam/q4/inetd-normal.int\", sep = \" \", header = None)\n",
        "\n",
        "    in_data.columns = ['PID', 'SystemCalls']\n",
        "    n_data.columns = ['PID', 'SystemCalls']\n",
        "\n",
        "    in_dict = {}\n",
        "    n_dict = {}\n",
        "\n",
        "    for pid in list(set(in_data['PID'].values)):\n",
        "        in_dict[pid] = \" \".join(str(value) for value in list(in_data[in_data['PID'] == pid]['SystemCalls'].values))\n",
        "\n",
        "    for pid in list(set(n_data['PID'].values)):\n",
        "        n_dict[pid] = \" \".join(str(value) for value in list(n_data[n_data['PID'] == pid]['SystemCalls'].values))\n",
        "\n",
        "    in_list = []\n",
        "    n_list = []\n",
        "    for key in in_dict.keys():\n",
        "        s = in_dict[key]\n",
        "        tokens = [token for token in s.split(\" \") if token != \"\"]\n",
        "\n",
        "        for ele in list(ngrams(tokens, ngram)):\n",
        "            in_list.append(ele)\n",
        "\n",
        "    for key in n_dict.keys():\n",
        "        s = n_dict[key]\n",
        "        tokens = [token for token in s.split(\" \") if token != \"\"]\n",
        "\n",
        "        for ele in list(ngrams(tokens, ngram)):\n",
        "            n_list.append(ele)\n",
        "\n",
        "    in_df = pd.DataFrame(in_list)\n",
        "    n_df = pd.DataFrame(n_list)\n",
        "\n",
        "    in_df['class'] = 1\n",
        "    n_df['class'] = 0\n",
        "\n",
        "    c_df = pd.DataFrame()\n",
        "\n",
        "    c_df = c_df.append(in_df)\n",
        "    c_df = c_df.append(n_df)\n",
        "\n",
        "    print(c_df.shape)\n",
        "    print()\n",
        "\n",
        "\n",
        "    c_df = c_df.drop_duplicates(subset = c_df.columns[:-1], keep = 'last')\n",
        "    print(c_df.shape)\n",
        "    print()\n",
        "\n",
        "    from sklearn.metrics.pairwise import cosine_similarity\n",
        "    import statistics\n",
        "\n",
        "    similarities_list = []\n",
        "    for i in range(0, 100):\n",
        "        l1 = list(c_df[c_df['class'] == 0].sample(n = 1).iloc[0, :].values)\n",
        "        l2 = list(c_df[c_df['class'] == 1].sample(n = 1).iloc[0, :].values)\n",
        "        try:\n",
        "            similarities_list.append(cosine_similarity([l1], [l2]))\n",
        "        except Exception as e:\n",
        "            print(e)\n",
        "            print(l1, l2)\n",
        "\n",
        "    print(statistics.median(similarities_list)[0][0])\n",
        "    print()\n",
        "    cosine_similar_ngram[ngram] = statistics.median(similarities_list)[0][0]\n",
        "    "
      ]
    },
    {
      "cell_type": "code",
      "execution_count": 45,
      "id": "6d67292f",
      "metadata": {
        "colab": {
          "base_uri": "https://localhost:8080/",
          "height": 471
        },
        "id": "6d67292f",
        "outputId": "28ed9c13-5684-4a74-83d3-f9160fcc518e"
      },
      "outputs": [
        {
          "output_type": "display_data",
          "data": {
            "text/plain": [
              "<Figure size 1008x504 with 1 Axes>"
            ],
            "image/png": "[encoded data removed]"
          },
          "metadata": {
            "needs_background": "light"
          }
        }
      ],
      "source": [
        "import matplotlib.pyplot as plt\n",
        "import seaborn as sns\n",
        "cosine_similar_ngram_df = pd.DataFrame({\"Ngram\":list(cosine_similar_ngram.keys()), \"Similarity_scores\": list(cosine_similar_ngram.values())})\n",
        "plt.rcParams['figure.figsize'] = [14, 7]\n",
        "sns.lineplot(x = \"Ngram\", y = \"Similarity_scores\", data = cosine_similar_ngram_df)\n",
        "plt.title(\"Line chart of cosine similarity scores\")\n",
        "plt.xlabel(\"Ngram\")\n",
        "plt.ylabel(\"Cosine similarity scores\")\n",
        "plt.xticks(rotation = 90)\n",
        "plt.show()"
      ]
    },
    {
      "cell_type": "code",
      "execution_count": null,
      "id": "7904d482",
      "metadata": {
        "id": "7904d482"
      },
      "outputs": [],
      "source": [
        ""
      ]
    }
  ],
  "metadata": {
    "kernelspec": {
      "display_name": "Python 3 (ipykernel)",
      "language": "python",
      "name": "python3"
    },
    "language_info": {
      "codemirror_mode": {
        "name": "ipython",
        "version": 3
      },
      "file_extension": ".py",
      "mimetype": "text/x-python",
      "name": "python",
      "nbconvert_exporter": "python",
      "pygments_lexer": "ipython3",
      "version": "3.9.7"
    },
    "colab": {
      "name": "INFO 5502-Final Exam--Q3--Spring2022.ipynb",
      "provenance": [],
      "collapsed_sections": [],
      "include_colab_link": true
    }
  },
  "nbformat": 4,
  "nbformat_minor": 5
}