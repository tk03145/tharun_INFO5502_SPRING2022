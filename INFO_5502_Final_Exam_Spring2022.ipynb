{
  "cells": [
    {
      "cell_type": "markdown",
      "metadata": {
        "id": "view-in-github",
        "colab_type": "text"
      },
      "source": [
        "<a href=\"https://colab.research.google.com/github/tk03145/tharun_INFO5502_SPRING2022/blob/main/INFO_5502_Final_Exam_Spring2022.ipynb\" target=\"_parent\"><img src=\"https://colab.research.google.com/assets/colab-badge.svg\" alt=\"Open In Colab\"/></a>"
      ]
    },
    {
      "cell_type": "markdown",
      "metadata": {
        "id": "SQB_PD2mwg9K"
      },
      "source": [
        "### INFO 5502 Final Exam (05/12/2022, 240 points in total)"
      ]
    },
    {
      "cell_type": "markdown",
      "metadata": {
        "id": "A4nY5W_gwg9L"
      },
      "source": [
        "<span style='background:yellow'>**Question 1 (40 pt).**</span> We want to create a birthday frequency graph using the data on births in the United States, provided by the Centers for Disease Control (CDC). You can download the data from my GitHub link:https://github.com/unt-iialab/info5502-spring2022/blob/main/datasets/births.csv \n",
        "\n",
        "Please visualize the data as the following figure using python (you can use any data visualization packages):\n",
        "\n"
      ]
    },
    {
      "cell_type": "code",
      "source": [
        "import numpy as np\n",
        "def calconfmat(y_true,y_pred):\n",
        "  uniqclass = np.unique(y_true)\n",
        "  ans = np.zero(len(uniqclass),len(uniqclass))\n",
        "  for i in range(len(uniqclass)):\n",
        "    for j in range(len(uniqclass)):\n",
        "      ans[i,j]=np.sum((y_true==uniqclass[i])&(y_pred==uniqclass[j]))\n",
        "  return ans"
      ],
      "metadata": {
        "id": "M-IHQdaYxBeW"
      },
      "execution_count": 2,
      "outputs": []
    },
    {
      "cell_type": "code",
      "source": [
        "%matplotlib inline\n",
        "import matplotlib.pyplot as plt\n",
        "import matplotlib as mpl\n",
        "plt.style.use('seaborn-whitegrid')\n",
        "import numpy as np\n",
        "import pandas as pd\n",
        "\n",
        "data = pd.read_csv(\"https://raw.githubusercontent.com/unt-iialab/info5502-spring2022/main/datasets/births.csv\")\n",
        "data.head()"
      ],
      "metadata": {
        "colab": {
          "base_uri": "https://localhost:8080/",
          "height": 206
        },
        "id": "o6_xdqZY1ryj",
        "outputId": "e2891790-261c-4886-ea9e-96949d57d158"
      },
      "execution_count": 3,
      "outputs": [
        {
          "output_type": "execute_result",
          "data": {
            "text/plain": [
              "   year  month  day gender  births\n",
              "0  1969      1  1.0      F    4046\n",
              "1  1969      1  1.0      M    4440\n",
              "2  1969      1  2.0      F    4454\n",
              "3  1969      1  2.0      M    4548\n",
              "4  1969      1  3.0      F    4548"
            ],
            "text/html": [
              "\n",
              "  <div id=\"df-9084f17e-6755-4367-86b0-ed30d78811a2\">\n",
              "    <div class=\"colab-df-container\">\n",
              "      <div>\n",
              "<style scoped>\n",
              "    .dataframe tbody tr th:only-of-type {\n",
              "        vertical-align: middle;\n",
              "    }\n",
              "\n",
              "    .dataframe tbody tr th {\n",
              "        vertical-align: top;\n",
              "    }\n",
              "\n",
              "    .dataframe thead th {\n",
              "        text-align: right;\n",
              "    }\n",
              "</style>\n",
              "<table border=\"1\" class=\"dataframe\">\n",
              "  <thead>\n",
              "    <tr style=\"text-align: right;\">\n",
              "      <th></th>\n",
              "      <th>year</th>\n",
              "      <th>month</th>\n",
              "      <th>day</th>\n",
              "      <th>gender</th>\n",
              "      <th>births</th>\n",
              "    </tr>\n",
              "  </thead>\n",
              "  <tbody>\n",
              "    <tr>\n",
              "      <th>0</th>\n",
              "      <td>1969</td>\n",
              "      <td>1</td>\n",
              "      <td>1.0</td>\n",
              "      <td>F</td>\n",
              "      <td>4046</td>\n",
              "    </tr>\n",
              "    <tr>\n",
              "      <th>1</th>\n",
              "      <td>1969</td>\n",
              "      <td>1</td>\n",
              "      <td>1.0</td>\n",
              "      <td>M</td>\n",
              "      <td>4440</td>\n",
              "    </tr>\n",
              "    <tr>\n",
              "      <th>2</th>\n",
              "      <td>1969</td>\n",
              "      <td>1</td>\n",
              "      <td>2.0</td>\n",
              "      <td>F</td>\n",
              "      <td>4454</td>\n",
              "    </tr>\n",
              "    <tr>\n",
              "      <th>3</th>\n",
              "      <td>1969</td>\n",
              "      <td>1</td>\n",
              "      <td>2.0</td>\n",
              "      <td>M</td>\n",
              "      <td>4548</td>\n",
              "    </tr>\n",
              "    <tr>\n",
              "      <th>4</th>\n",
              "      <td>1969</td>\n",
              "      <td>1</td>\n",
              "      <td>3.0</td>\n",
              "      <td>F</td>\n",
              "      <td>4548</td>\n",
              "    </tr>\n",
              "  </tbody>\n",
              "</table>\n",
              "</div>\n",
              "      <button class=\"colab-df-convert\" onclick=\"convertToInteractive('df-9084f17e-6755-4367-86b0-ed30d78811a2')\"\n",
              "              title=\"Convert this dataframe to an interactive table.\"\n",
              "              style=\"display:none;\">\n",
              "        \n",
              "  <svg xmlns=\"http://www.w3.org/2000/svg\" height=\"24px\"viewBox=\"0 0 24 24\"\n",
              "       width=\"24px\">\n",
              "    <path d=\"M0 0h24v24H0V0z\" fill=\"none\"/>\n",
              "    <path d=\"M18.56 5.44l.94 2.06.94-2.06 2.06-.94-2.06-.94-.94-2.06-.94 2.06-2.06.94zm-11 1L8.5 8.5l.94-2.06 2.06-.94-2.06-.94L8.5 2.5l-.94 2.06-2.06.94zm10 10l.94 2.06.94-2.06 2.06-.94-2.06-.94-.94-2.06-.94 2.06-2.06.94z\"/><path d=\"M17.41 7.96l-1.37-1.37c-.4-.4-.92-.59-1.43-.59-.52 0-1.04.2-1.43.59L10.3 9.45l-7.72 7.72c-.78.78-.78 2.05 0 2.83L4 21.41c.39.39.9.59 1.41.59.51 0 1.02-.2 1.41-.59l7.78-7.78 2.81-2.81c.8-.78.8-2.07 0-2.86zM5.41 20L4 18.59l7.72-7.72 1.47 1.35L5.41 20z\"/>\n",
              "  </svg>\n",
              "      </button>\n",
              "      \n",
              "  <style>\n",
              "    .colab-df-container {\n",
              "      display:flex;\n",
              "      flex-wrap:wrap;\n",
              "      gap: 12px;\n",
              "    }\n",
              "\n",
              "    .colab-df-convert {\n",
              "      background-color: #E8F0FE;\n",
              "      border: none;\n",
              "      border-radius: 50%;\n",
              "      cursor: pointer;\n",
              "      display: none;\n",
              "      fill: #1967D2;\n",
              "      height: 32px;\n",
              "      padding: 0 0 0 0;\n",
              "      width: 32px;\n",
              "    }\n",
              "\n",
              "    .colab-df-convert:hover {\n",
              "      background-color: #E2EBFA;\n",
              "      box-shadow: 0px 1px 2px rgba(60, 64, 67, 0.3), 0px 1px 3px 1px rgba(60, 64, 67, 0.15);\n",
              "      fill: #174EA6;\n",
              "    }\n",
              "\n",
              "    [theme=dark] .colab-df-convert {\n",
              "      background-color: #3B4455;\n",
              "      fill: #D2E3FC;\n",
              "    }\n",
              "\n",
              "    [theme=dark] .colab-df-convert:hover {\n",
              "      background-color: #434B5C;\n",
              "      box-shadow: 0px 1px 3px 1px rgba(0, 0, 0, 0.15);\n",
              "      filter: drop-shadow(0px 1px 2px rgba(0, 0, 0, 0.3));\n",
              "      fill: #FFFFFF;\n",
              "    }\n",
              "  </style>\n",
              "\n",
              "      <script>\n",
              "        const buttonEl =\n",
              "          document.querySelector('#df-9084f17e-6755-4367-86b0-ed30d78811a2 button.colab-df-convert');\n",
              "        buttonEl.style.display =\n",
              "          google.colab.kernel.accessAllowed ? 'block' : 'none';\n",
              "\n",
              "        async function convertToInteractive(key) {\n",
              "          const element = document.querySelector('#df-9084f17e-6755-4367-86b0-ed30d78811a2');\n",
              "          const dataTable =\n",
              "            await google.colab.kernel.invokeFunction('convertToInteractive',\n",
              "                                                     [key], {});\n",
              "          if (!dataTable) return;\n",
              "\n",
              "          const docLinkHtml = 'Like what you see? Visit the ' +\n",
              "            '<a target=\"_blank\" href=https://colab.research.google.com/notebooks/data_table.ipynb>data table notebook</a>'\n",
              "            + ' to learn more about interactive tables.';\n",
              "          element.innerHTML = '';\n",
              "          dataTable['output_type'] = 'display_data';\n",
              "          await google.colab.output.renderOutput(dataTable, element);\n",
              "          const docLink = document.createElement('div');\n",
              "          docLink.innerHTML = docLinkHtml;\n",
              "          element.appendChild(docLink);\n",
              "        }\n",
              "      </script>\n",
              "    </div>\n",
              "  </div>\n",
              "  "
            ]
          },
          "metadata": {},
          "execution_count": 3
        }
      ]
    },
    {
      "cell_type": "code",
      "source": [
        "q = np.percentile(data['births'], [25, 50, 75])\n",
        "mu, sig = q[1], 0.74 * (q[2] - q[0])\n",
        "b = data.query('(births > @mu - 5 * @sig) & (births < @mu + 5 * @sig)')\n",
        "\n",
        "b['day'] = b['day'].astype(int)\n",
        "\n",
        "b.index = pd.to_datetime(10000 * b.year +\n",
        "                              100 * b.month +\n",
        "                              b.day, format='%Y%m%d')\n",
        "b_by_date = b.pivot_table('births',\n",
        "                                    [b.index.month, b.index.day])\n",
        "b_by_date.index = [pd.datetime(2016, month, day)\n",
        "for (month, day) in b_by_date.index]\n",
        "fig,ax = plt.subplots(figsize=(12, 4))\n",
        "plt.title(\"USA births (1969 to 1988\")\n",
        "plt.xlabel(\"Months\")\n",
        "b_by_date.plot(ax=ax);"
      ],
      "metadata": {
        "colab": {
          "base_uri": "https://localhost:8080/",
          "height": 465
        },
        "id": "qGKEJuvk2J90",
        "outputId": "66bd73d2-4dfc-431c-ad22-d4d70b1c0e70"
      },
      "execution_count": 31,
      "outputs": [
        {
          "output_type": "stream",
          "name": "stderr",
          "text": [
            "/usr/local/lib/python3.7/dist-packages/ipykernel_launcher.py:5: SettingWithCopyWarning: \n",
            "A value is trying to be set on a copy of a slice from a DataFrame.\n",
            "Try using .loc[row_indexer,col_indexer] = value instead\n",
            "\n",
            "See the caveats in the documentation: https://pandas.pydata.org/pandas-docs/stable/user_guide/indexing.html#returning-a-view-versus-a-copy\n",
            "  \"\"\"\n",
            "/usr/local/lib/python3.7/dist-packages/ipykernel_launcher.py:13: FutureWarning: The pandas.datetime class is deprecated and will be removed from pandas in a future version. Import from datetime module instead.\n",
            "  del sys.path[0]\n"
          ]
        },
        {
          "output_type": "display_data",
          "data": {
            "text/plain": [
              "<Figure size 864x288 with 1 Axes>"
            ],
            "image/png": "[encoded data removed]"
          },
          "metadata": {}
        }
      ]
    },
    {
      "cell_type": "markdown",
      "metadata": {
        "id": "dAIbvmJmwg9M"
      },
      "source": [
        "<span style='background:yellow'>**Question 2 (40 pt).**</span> Write a python program to evaluate the text classification performance using accuracy, precision, recall, and f1 score. \n",
        "\n",
        "Accuracy = (TP + TN) / (TP+ TN+ FP+ FN)\n",
        "\n",
        "Recall = (TP) / (TP+FN)\n",
        "\n",
        "Precision = (TP) / (TP+FP)\n",
        "\n",
        "F1 Score = (2*Precision*Recall) / (Precision + Recall)\n",
        "\n",
        "Here is the confusion matrix of a text classfication task (six categories) on the testing data. \n",
        "\n"
      ]
    },
    {
      "cell_type": "code",
      "source": [
        "def calculate(TP,TN,FP,FN,c):\n",
        "\n",
        "  a = (TP + TN) / (TP+ TN+ FP+ FN)\n",
        "  r = (TP) / (TP+FN)\n",
        "  p = (TP) / (TP+FP)\n",
        "  f1_s = (2*p*r) / (p + r)\n",
        "  print(\"-----------------------------------\")\n",
        "  print(\"calss \",format(c))\n",
        "  print(\"accuracy\" , a)\n",
        "  print(\"recall\", r)\n",
        "  print(\"precision\", p)\n",
        "  print(\"f1_score\",f1_s)\n",
        "  print(\"------------------------------------\")\n",
        "TP1=157\n",
        "TN1=428\n",
        "FP1=76\n",
        "FN1\t=111\n",
        "\n",
        "TP2=151\n",
        "TN2\t=434\n",
        "FP2\t=118\n",
        "FN2\t=98\n",
        "\n",
        "\t\n",
        "\n",
        "TP3\t=135\n",
        "TN3\t=450\n",
        "FP3\t=108\n",
        "FN3\t=73\n",
        "\n",
        "\t\n",
        "\n",
        "TP4\t=70\n",
        "TN4\t=515\n",
        "FP4\t=66\n",
        "FN4\t=54\n",
        "\n",
        "\n",
        "TP5\t=56\n",
        "TN5\t=529\n",
        "FP5\t=30\n",
        "FN5\t=49\n",
        "\n",
        "\t\n",
        "\n",
        "TP6\t=16\n",
        "TN6\t=569\n",
        "FP6\t=22\n",
        "FN6\t=35\n",
        "\n",
        "calculate(TP1,TN1,FP1,FN1,1)\n",
        "calculate(TP2,TN2,FP2,FN2,2)\n",
        "calculate(TP3,TN3,FP3,FN3,3)\n",
        "calculate(TP4,TN4,FP4,FN4,4)\n",
        "calculate(TP5,TN5,FP5,FN5,5)\n",
        "calculate(TP6,TN6,FP6,FN6,6)"
      ],
      "metadata": {
        "colab": {
          "base_uri": "https://localhost:8080/"
        },
        "id": "Ui5DEXSzUSUa",
        "outputId": "c0e82f41-0642-4ca3-c76d-597cc5dd29db"
      },
      "execution_count": 49,
      "outputs": [
        {
          "output_type": "stream",
          "name": "stdout",
          "text": [
            "-----------------------------------\n",
            "calss  1\n",
            "accuracy 0.7577720207253886\n",
            "recall 0.585820895522388\n",
            "precision 0.6738197424892703\n",
            "f1_score 0.626746506986028\n",
            "------------------------------------\n",
            "-----------------------------------\n",
            "calss  2\n",
            "accuracy 0.7303370786516854\n",
            "recall 0.606425702811245\n",
            "precision 0.5613382899628253\n",
            "f1_score 0.583011583011583\n",
            "------------------------------------\n",
            "-----------------------------------\n",
            "calss  3\n",
            "accuracy 0.7637075718015666\n",
            "recall 0.6490384615384616\n",
            "precision 0.5555555555555556\n",
            "f1_score 0.598669623059867\n",
            "------------------------------------\n",
            "-----------------------------------\n",
            "calss  4\n",
            "accuracy 0.8297872340425532\n",
            "recall 0.5645161290322581\n",
            "precision 0.5147058823529411\n",
            "f1_score 0.5384615384615384\n",
            "------------------------------------\n",
            "-----------------------------------\n",
            "calss  5\n",
            "accuracy 0.8810240963855421\n",
            "recall 0.5333333333333333\n",
            "precision 0.6511627906976745\n",
            "f1_score 0.5863874345549738\n",
            "------------------------------------\n",
            "-----------------------------------\n",
            "calss  6\n",
            "accuracy 0.9112149532710281\n",
            "recall 0.3137254901960784\n",
            "precision 0.42105263157894735\n",
            "f1_score 0.3595505617977528\n",
            "------------------------------------\n"
          ]
        }
      ]
    },
    {
      "cell_type": "code",
      "source": [
        "import numpy as np\n",
        "\n",
        "conf_matrix = [[157,46,25,22,15,3],\n",
        "              [28,151,45,18,1,6],\n",
        "              [11,38,135,14,3,7],\n",
        "              [11,15,18,70,6,4],\n",
        "              [14,12,14,7,56,2],\n",
        "              [12,7,6,5,5,16]]\n",
        "\n",
        "conf = np.array(conf_matrix)\n",
        "\n",
        "\n",
        "\n",
        "for i in range(len(conf)):\n",
        "    \n",
        "    accuracy = 0\n",
        "    precision = 0\n",
        "    recall = 0\n",
        "    f1_score = 0\n",
        "    \n",
        "    TP = conf[i,i]\n",
        "    FP = conf[i,:].sum() - TP\n",
        "    FN = conf[:,i].sum() - TP\n",
        "    TN = conf.sum().sum() - (TP+FP+FN)\n",
        "    \n",
        "    accuracy = (TP+TN)/conf.sum().sum()\n",
        "    precision = TP/(TP+FP)\n",
        "    recall = TP/(TP+FN)\n",
        "    f1_score = 2*precision*recall/(precision+recall)\n",
        "    \n",
        "    print(f'The accuracy of class{i} is {accuracy}')\n",
        "    print(f'The precision of class{i} is {precision}')\n",
        "    print(f'The recall of class{i} is {recall}')\n",
        "    print(f'The F1-Score of class{i} is {f1_score}')\n",
        "    print()"
      ],
      "metadata": {
        "colab": {
          "base_uri": "https://localhost:8080/"
        },
        "id": "EGkCBY6jYjIi",
        "outputId": "d1a726da-94a0-404a-b981-a7c58e7cfa74"
      },
      "execution_count": 58,
      "outputs": [
        {
          "output_type": "stream",
          "name": "stdout",
          "text": [
            "The accuracy of class0 is 0.8139303482587065\n",
            "The precision of class0 is 0.585820895522388\n",
            "The recall of class0 is 0.6738197424892703\n",
            "The F1-Score of class0 is 0.626746506986028\n",
            "\n",
            "The accuracy of class1 is 0.7850746268656716\n",
            "The precision of class1 is 0.606425702811245\n",
            "The recall of class1 is 0.5613382899628253\n",
            "The F1-Score of class1 is 0.583011583011583\n",
            "\n",
            "The accuracy of class2 is 0.8199004975124378\n",
            "The precision of class2 is 0.6490384615384616\n",
            "The recall of class2 is 0.5555555555555556\n",
            "The F1-Score of class2 is 0.598669623059867\n",
            "\n",
            "The accuracy of class3 is 0.8805970149253731\n",
            "The precision of class3 is 0.5645161290322581\n",
            "The recall of class3 is 0.5147058823529411\n",
            "The F1-Score of class3 is 0.5384615384615384\n",
            "\n",
            "The accuracy of class4 is 0.9213930348258706\n",
            "The precision of class4 is 0.5333333333333333\n",
            "The recall of class4 is 0.6511627906976745\n",
            "The F1-Score of class4 is 0.5863874345549738\n",
            "\n",
            "The accuracy of class5 is 0.9432835820895522\n",
            "The precision of class5 is 0.3137254901960784\n",
            "The recall of class5 is 0.42105263157894735\n",
            "The F1-Score of class5 is 0.3595505617977528\n",
            "\n"
          ]
        }
      ]
    },
    {
      "cell_type": "markdown",
      "metadata": {
        "id": "-bsdKuTdwg9N"
      },
      "source": [
        "<span style='background:yellow'>**Question 3 (100 pt, each sub-question is 10 pt).**</span> \n",
        "\n",
        "Part A: Given Inetd dataset, an intrusion detection dataset that contains 2 columns. The first column represents a process ID number (PID) and the second column represents a system call. The goal is to extract the entire system call sequence by its PID, then tokenize and parse each sequence into 25-grams. After this, we’ll split the data into training and testing sets. Next, we ensure data quality in the training dataset by removing duplicate sequences within each class and overlapped sequences between both classes. To ensure a fair evaluation, we also clean the testing set by repeating the previous step. You will implement a Decision Tree model to train and test on the training set and testing set that we just clean. \n",
        "\n",
        "\n",
        "Part B: As the data type is sequential, we want to know how similar the sequences from both classes are and visualize how the similarity scores vary in different sequence lengths. Compute a cosine similarity score of 100 random pairs from both classes and get a median cosine similarity. Repeat this step in different sequence lengths (5, 10, 15, and 20). Plot a line chart to visualize how the median cosine similarities vary through sequence lengths of 5 to 25. \n",
        "\n",
        "You can download the datasets from github: https://github.com/unt-iialab/info5502-spring2022/tree/main/finalexam/q4\n",
        "\n",
        "\n",
        "Step by step instructions and questions:\n",
        "\n",
        "(1) Attached are the Normal and Intrusion data folders. Read in the data and store them in two separate dataframes. Combine the system calls (the second column) from the same PID (the first column) into a sequence or a string. \n",
        "\n",
        "(2) Parse an entire sequence into smaller sequences of size 25. (Hint: Use word_tokenize and ngrams from nltk library to parse).\n",
        "\n",
        "(3) Add labels to the data, and partition the labeled data into training data and testing data with a ratio of 70/30.\n",
        "\n",
        "(4) As the dataset has a lot of duplicate sequences, make sure that the testing data only contain unique sequences and that these sequences do not exist in the training data. Condense training data and testing data into two sets. Take the difference between the testing set and training set to remove the overlapped sequences from the testing data. \n",
        "\n",
        "(5) The sequences from each class can be repetitive, and some of these sequences may have different labels. Therefore, we need to remove the duplicate sequences within each class and the overlapped sequences from the Intrusion class. Start out by separating the Normal class and Intrusion class in the training data. Use the same concept in Question 4 to remove duplicate sequences and overlapped sequences from the training data.\n",
        "\n",
        "(6) Repeat Question 5 to clean the testing data.\n",
        "\n",
        "(7) Bootstrap the training data to get the same number of sequences from each class. Train and evaluate a Decision Tree model using the training data and testing data that we just clean. How is the performance?\n",
        "\n",
        "(8) Randomly sample 100 pairs of sequences from both classes and calculate the median cosine similarity.\n",
        "\n",
        "(9) Refer back to Question 2, parse the data into a length of 5, 10, 15, and 20. Clean the data from each class using Question 5. For each sequence length, calculate the median cosine similarity of 100 random pairs of sequences from both classes. \n",
        "\n",
        "(10) Plot a line chart to visualize how the median cosine similarities vary through different sequence lengths from 5 to 25.\n"
      ]
    },
    {
      "cell_type": "code",
      "execution_count": null,
      "metadata": {
        "id": "wg70QqHNwg9O"
      },
      "outputs": [],
      "source": [
        "\n",
        "\n",
        "\n",
        "\n",
        "\n"
      ]
    },
    {
      "cell_type": "markdown",
      "metadata": {
        "id": "Sd6Rw366wg9O"
      },
      "source": [
        "<span style='background:yellow'>**Question 4 (60 pt, each sub-question is 20 pt).**</span> In the world of business, the importance of the customers’ reviews for any product is not ignorable. The impact of customers’ reviews on customer’s decision making is significant. Therefore, businesses try to increase this impact by increasing the ratio of the positive reviews to negative reviews. One effective way to increase the ratio is offering the incentives such as small gifts or free next services to customers to post the reviews for item they purchase or used. However, it is not always the case, and customer may post their reviews without receiving or accepting the incentives. So, the reviews could be in either incentivized or non-incentivized category.\n",
        "\n",
        "\n",
        "Considering the importance of reviews, in this question you need to compare these two categories of reviews. One method to compare the effectiveness of two categories is conducting the A/B testing.\n",
        "\n",
        "\n",
        "The Software_Reviews dataset is collected from software review products, and it is combination of several small datasets. Find the dataset as an attachment on the left side of the page.\n",
        "\n",
        "\n",
        "You can downlaod the dataset from github: https://github.com/unt-iialab/info5502-spring2022/blob/main/finalexam/Software_Reviews_csv_files_S.csv\n",
        "\n",
        "(1) Clean the dataset before you use (You need to know this dataset is combinations of the several CSV files with title rows. So, there are extra title rows in the middle of the file, which they need to be removed.)\n",
        "\n",
        "\n",
        "(2) Apply an A/B test\": consider the “incentivized” column as main column for A & B groups.\n",
        "\n",
        "a. The “incentivized” column includes ‘NominalGift’, ‘VendorReferredIncentivized’, ‘NoIncentive’, ‘NonNominalGift’, ‘VendorReferred’, ‘None’\n",
        "\n",
        "b. Group A (Incentive): ‘NominalGift’, and ‘VendorReferredIncentivized’\n",
        "\n",
        "c. Group B (NoIncentive): ‘NoIncentive’, ‘NonNominalGift’, ‘VendorReferred’\n",
        "\n",
        "d. Make the decision if ‘None’ includes in either Group A or B or remove that.\n",
        "\n",
        "e. The “OverAllRating” is another column that is used to compare groups A and B.\n",
        "\n",
        "Which one A or B group has higher “OverAllRating”?\n",
        "\n",
        "\n",
        "(3) Draw the A/B testing related visualizations."
      ]
    },
    {
      "cell_type": "code",
      "source": [
        "import pandas as pd\n",
        "import numpy as np\n",
        "from scipy.stats import norm\n",
        "data=pd.read_csv('/Software_Reviews_csv_files_S.csv')\n",
        "a = data[(data['incentivized'] == \"NominalGift\") | (data['incentivized'] == \"VendorReferredIncentivized\")]['OverAllRating']#.shape\n",
        "b = data[(data['incentivized'] == \"NoIncentive\") | (data['incentivized'] == \"NonNominalGift\") | (data['incentivized'] == \"VendorReferred\")]['OverAllRating']#.shape\n",
        "N_con = a.shape[0]\n",
        "N_exp = b.shape[0]\n",
        "alpha = 0.08\n",
        "mu_con = np.mean(a)\n",
        "mu_exp = np.mean(b)\n",
        "print(a)"
      ],
      "metadata": {
        "colab": {
          "base_uri": "https://localhost:8080/"
        },
        "id": "GZPO2k_VTSPs",
        "outputId": "6ba89e79-106f-4cc8-c8f1-b10fefcf0262"
      },
      "execution_count": 51,
      "outputs": [
        {
          "output_type": "stream",
          "name": "stdout",
          "text": [
            "1       4\n",
            "2       1\n",
            "3       4\n",
            "15      5\n",
            "17      5\n",
            "       ..\n",
            "2994    5\n",
            "2995    5\n",
            "2996    5\n",
            "2997    5\n",
            "2998    5\n",
            "Name: OverAllRating, Length: 1015, dtype: object\n"
          ]
        }
      ]
    },
    {
      "cell_type": "code",
      "source": [
        "a = a.astype('float')\n",
        "b = b.astype('float')\n",
        "v_con = np.var(a)\n",
        "v_exp = np.var(b)\n",
        "pooled_variance = np.sqrt(v_con/N_con + v_exp/N_exp)\n",
        "D = (mu_con-mu_exp)/np.sqrt(v_con/N_con + v_exp/N_exp)\n",
        "p_value = norm.sf(D)*2\n",
        "Z_crit  = norm.ppf(1-alpha/2)\n",
        "t = Z_crit*pooled_variance\n",
        "CI = [(mu_con - mu_exp) - t, (mu_con - mu_exp) + t]\n",
        "print(\"Test Statistics stat: \", D)\n",
        "print(\"Z-critical: \", Z_crit)\n",
        "print(\"P_value: \", p_value)\n",
        "print(\"Confidence Interval of 2 sample Z-test for proportions: \", np.round(CI,2))\n",
        "\n",
        "import matplotlib.pyplot as plt\n",
        "p = np.arange(-3,3,  0.1)\n",
        "plt.plot(p, norm.pdf(p), label = 'Standard Normal Distribution',color = 'blue',linewidth = 2.5)\n",
        "plt.fill_between(p[p>Z_crit], norm.pdf(p[p>Z_crit]), label = 'Right Rejection ',color ='y' )\n",
        "plt.fill_between(p[p<(-1)*Z_crit], norm.pdf(p[p<(-1)*Z_crit]), label = 'Left Rejection ',color ='y' )\n",
        "plt.title(\"Two Sample Z-test rejection region\")\n",
        "plt.legend()\n",
        "plt.show()"
      ],
      "metadata": {
        "colab": {
          "base_uri": "https://localhost:8080/",
          "height": 440
        },
        "id": "MnuSB1jcThWG",
        "outputId": "22852118-94a5-4fd8-bc02-144a2782b409"
      },
      "execution_count": 57,
      "outputs": [
        {
          "output_type": "stream",
          "name": "stdout",
          "text": [
            "Test Statistics stat:  nan\n",
            "Z-critical:  1.7506860712521692\n",
            "P_value:  nan\n",
            "Confidence Interval of 2 sample Z-test for proportions:  [nan nan]\n"
          ]
        },
        {
          "output_type": "stream",
          "name": "stderr",
          "text": [
            "/usr/local/lib/python3.7/dist-packages/ipykernel_launcher.py:6: RuntimeWarning: invalid value encountered in double_scalars\n",
            "  \n",
            "/usr/local/lib/python3.7/dist-packages/ipykernel_launcher.py:10: RuntimeWarning: invalid value encountered in double_scalars\n",
            "  # Remove the CWD from sys.path while we load stuff.\n"
          ]
        },
        {
          "output_type": "display_data",
          "data": {
            "text/plain": [
              "<Figure size 432x288 with 1 Axes>"
            ],
            "image/png": "[encoded data removed]"
          },
          "metadata": {}
        }
      ]
    }
  ],
  "metadata": {
    "kernelspec": {
      "display_name": "Python 3",
      "language": "python",
      "name": "python3"
    },
    "language_info": {
      "codemirror_mode": {
        "name": "ipython",
        "version": 3
      },
      "file_extension": ".py",
      "mimetype": "text/x-python",
      "name": "python",
      "nbconvert_exporter": "python",
      "pygments_lexer": "ipython3",
      "version": "3.8.5"
    },
    "colab": {
      "name": "INFO 5502-Final Exam-Spring2022.ipynb",
      "provenance": [],
      "include_colab_link": true
    }
  },
  "nbformat": 4,
  "nbformat_minor": 0
}