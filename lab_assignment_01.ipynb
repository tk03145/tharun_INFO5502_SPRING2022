{
  "cells": [
    {
      "cell_type": "markdown",
      "metadata": {
        "id": "view-in-github",
        "colab_type": "text"
      },
      "source": [
        "<a href=\"https://colab.research.google.com/github/tk03145/tharun_INFO5502_SPRING2022/blob/main/lab_assignment_01.ipynb\" target=\"_parent\"><img src=\"https://colab.research.google.com/assets/colab-badge.svg\" alt=\"Open In Colab\"/></a>"
      ]
    },
    {
      "cell_type": "markdown",
      "metadata": {
        "id": "DymRJbxDBCnf"
      },
      "source": [
        "# **The first Lab-assignment (01/25/2022, 50 points in total)**"
      ]
    },
    {
      "cell_type": "markdown",
      "metadata": {
        "id": "jJDe71iLB616"
      },
      "source": [
        "(1) Write a Python program to count the number of characters in a string. (5 points)\n",
        "\n",
        "Sample String : 'google.com', \n",
        "\n",
        "Expected Result : {'o': 3, 'g': 2, '.': 1, 'e': 1, 'l': 1, 'm': 1, 'c': 1}"
      ]
    },
    {
      "cell_type": "code",
      "execution_count": 1,
      "metadata": {
        "colab": {
          "base_uri": "https://localhost:8080/"
        },
        "id": "MtKskTzbCLaU",
        "outputId": "71000748-9598-49bb-c990-f5732859a49a"
      },
      "outputs": [
        {
          "output_type": "stream",
          "name": "stdout",
          "text": [
            "Enter the  String: google.com\n",
            "{'e': 1, 'g': 2, 'o': 3, '.': 1, 'm': 1, 'l': 1, 'c': 1}\n"
          ]
        }
      ],
      "source": [
        "# write your answer here\n",
        "input_str = input(\"Enter the  String: \")\n",
        "result = {}\n",
        "for char in set(input_str):\n",
        "  # fetching count of each char and adding it to result dictionary\n",
        "  result[char] = input_str.count(char)\n",
        "\n",
        "print(result)\n"
      ]
    },
    {
      "cell_type": "markdown",
      "metadata": {
        "id": "55W9AMdXCSpV"
      },
      "source": [
        "(2) Write a Python program to sum all the items in a list. (5 points)"
      ]
    },
    {
      "cell_type": "code",
      "execution_count": 2,
      "metadata": {
        "colab": {
          "base_uri": "https://localhost:8080/"
        },
        "id": "I57NXsauCec2",
        "outputId": "9906cf8b-9c7e-4910-c6a1-e4a966f4e7bc"
      },
      "outputs": [
        {
          "output_type": "stream",
          "name": "stdout",
          "text": [
            "The sum of the elements in the list is: 20\n"
          ]
        }
      ],
      "source": [
        "# write your answer here\n",
        "input_list = [ 2, 3, 4, 5, 6]\n",
        "sum = 0\n",
        "for num in input_list:\n",
        " # Adding each num in the list\n",
        " sum = sum + num\n",
        "\n",
        "print(\"The sum of the elements in the list is: {}\".format(sum))\n"
      ]
    },
    {
      "cell_type": "markdown",
      "metadata": {
        "id": "4ulBZ6yhCi9F"
      },
      "source": [
        "(3) Write a Python program to get a string from a given string where all occurrences of its first char have been changed to '\\$', except the first char itself. (5 points)\n",
        "\n",
        "Sample String : 'restart', \n",
        "\n",
        "Expected Result : 'resta\\$t'"
      ]
    },
    {
      "cell_type": "code",
      "execution_count": 3,
      "metadata": {
        "colab": {
          "base_uri": "https://localhost:8080/"
        },
        "id": "Fj0XhwbBCw2o",
        "outputId": "ee4f49a7-25f8-4570-fd28-7b90990a46e2"
      },
      "outputs": [
        {
          "output_type": "stream",
          "name": "stdout",
          "text": [
            "resta*t\n"
          ]
        }
      ],
      "source": [
        "# write your answer here\n",
        "input_str = \"restart\"\n",
        "# replacing all occurences of first char except the first char itself...\n",
        "print(\"\".join((input_str[0], input_str[1:].replace(input_str[0], \"*\"))))\n"
      ]
    },
    {
      "cell_type": "markdown",
      "metadata": {
        "id": "_bIP7s1MCzue"
      },
      "source": [
        "(4) Write a program with python which could accept two parameter a and b to calculate and output the result of S, where \n",
        "\n",
        "$\\ S=3.14*(1+a/b)^3$ (5 points)\n",
        "\n"
      ]
    },
    {
      "cell_type": "code",
      "execution_count": 4,
      "metadata": {
        "colab": {
          "base_uri": "https://localhost:8080/"
        },
        "id": "w79QilHXD3Mg",
        "outputId": "b08f159c-87d7-4896-83f6-ef7480cbadc2"
      },
      "outputs": [
        {
          "output_type": "stream",
          "name": "stdout",
          "text": [
            "Enter the a value: 5\n",
            "Enter the b value: 6\n",
            "The result is: 19.3487962962963\n"
          ]
        }
      ],
      "source": [
        "# write your answer here\n",
        "a = int(input(\"Enter the a value: \"))\n",
        "b = int(input(\"Enter the b value: \"))\n",
        "\n",
        "S = 3.14 * (1 + (a/b)) ** 3\n",
        "print(\"The result is: {}\".format(S))\n"
      ]
    },
    {
      "cell_type": "markdown",
      "metadata": {
        "id": "xCa2bK9aD4Q3"
      },
      "source": [
        "(5) Write a Python program to concatenate following dictionaries to create a new one. (5 points)\n",
        "\n",
        "Sample Dictionary : dic1={1:10, 2:20}, dic2={3:30, 4:40}, dic3={5:50,6:60}, \n",
        "\n",
        "Expected Result : {1: 10, 2: 20, 3: 30, 4: 40, 5: 50, 6: 60}\n"
      ]
    },
    {
      "cell_type": "code",
      "execution_count": 5,
      "metadata": {
        "colab": {
          "base_uri": "https://localhost:8080/"
        },
        "id": "_z4aLqAbEET1",
        "outputId": "59900dd4-34a2-441e-f24f-65e6787eb9de"
      },
      "outputs": [
        {
          "output_type": "stream",
          "name": "stdout",
          "text": [
            "{1: 10, 2: 20, 3: 30, 4: 40, 5: 50, 6: 60}\n"
          ]
        }
      ],
      "source": [
        "# write your answer here\n",
        "dic1={1:10, 2:20}; dic2={3:30, 4:40}; dic3={5:50,6:60}\n",
        "\n",
        "result = {}\n",
        "for i in [dic1, dic2, dic3]:\n",
        "  # adding each dictionary to result dictionary\n",
        "  result.update(i)\n",
        "\n",
        "print(result)\n"
      ]
    },
    {
      "cell_type": "markdown",
      "metadata": {
        "id": "0v48Vqa7FrQh"
      },
      "source": [
        "(6) Write a Python program to check whether an element exists within a tuple. (5 points)"
      ]
    },
    {
      "cell_type": "code",
      "execution_count": 8,
      "metadata": {
        "colab": {
          "base_uri": "https://localhost:8080/"
        },
        "id": "7WEmgq-DF2P1",
        "outputId": "3f872a58-7af3-4a1f-82f1-69178b12a8fe"
      },
      "outputs": [
        {
          "output_type": "stream",
          "name": "stdout",
          "text": [
            "Enter an element you want to search in the tuple: ab\n",
            "The element is not present in the tuple!!!\n"
          ]
        }
      ],
      "source": [
        "# write your answer here\n",
        "sample_tuple = (\"rainbow\", \"unicorn\")\n",
        "\n",
        "element = input(\"Enter an element you want to search in the tuple: \")\n",
        "\n",
        "if element in sample_tuple:\n",
        "  print(\"The element is present in the tuple!!!\")\n",
        "else:\n",
        "  print(\"The element is not present in the tuple!!!\")\n"
      ]
    },
    {
      "cell_type": "markdown",
      "metadata": {
        "id": "vD5PYLMuGga_"
      },
      "source": [
        "(7) Write a Python program to find maximum and the minimum value in a set. (5 points)"
      ]
    },
    {
      "cell_type": "code",
      "execution_count": 9,
      "metadata": {
        "colab": {
          "base_uri": "https://localhost:8080/"
        },
        "id": "t0D5kdJUGjjw",
        "outputId": "764da01d-d75b-4f4b-85f2-a268985f26e0"
      },
      "outputs": [
        {
          "output_type": "stream",
          "name": "stdout",
          "text": [
            "Maximum value in the set is: 19\n",
            "Minimum value in the set is: 11\n"
          ]
        }
      ],
      "source": [
        "# write your answer here\n",
        "import sys\n",
        "input_set = {15, 16, 11, 19, 13, 14, 17}\n",
        "# uisng max(), min() built-in functions...\n",
        "print(\"Maximum value in the set is: {}\".format(max(input_set)))\n",
        "print(\"Minimum value in the set is: {}\".format(min(input_set)))\n"
      ]
    },
    {
      "cell_type": "markdown",
      "metadata": {
        "id": "uHkd-y5VhVWC"
      },
      "source": [
        "(8) Write a Python program to randomly divide the students in this class into six groups for term projects, each group should have at least 4 students but no more than 6 students (including 6). Here is the students list: (5 points)\n",
        "\n",
        "studnet_list = ['ja0964','sa1198','sb1357','vb0218','sc1229','kg0569','kg0470','sg1297','bg0320','fh0141','jl1252','sk1386',\n",
        "           'ak0956','sk1390','sk1458','sk1313','ak0934','vm0377','nm0618','sm1640','sm1907','gn0108','pr0353','dr0609','ms1500','aos0040','ds0814', 'av0659','nv0234','hy0232']"
      ]
    },
    {
      "cell_type": "code",
      "execution_count": 11,
      "metadata": {
        "colab": {
          "base_uri": "https://localhost:8080/"
        },
        "id": "3iGbmcOBhTwy",
        "outputId": "a1106380-69ff-4269-e92f-e35f6069aa90"
      },
      "outputs": [
        {
          "output_type": "stream",
          "name": "stdout",
          "text": [
            "['aos0040', 'pr0353', 'sa1198', 'hy0232', 'gn0108']\n",
            "['sk1313', 'vb0218', 'fh0141', 'av0659', 'sg1297', 'kg0569']\n",
            "['ja0964', 'sm1640', 'sc1229', 'sk1390']\n",
            "['nm0618', 'dr0609', 'sk1458', 'ds0814', 'ak0934', 'sm1907']\n",
            "['ms1500', 'bg0320', 'sb1357', 'nv0234', 'jl1252']\n",
            "['sk1386', 'kg0470', 'ak0956', 'vm0377']\n"
          ]
        }
      ],
      "source": [
        "# write your answer here\n",
        "import numpy as np, random\n",
        "studnet_list = ['ja0964','sa1198','sb1357','vb0218','sc1229','kg0569','kg0470','sg1297','bg0320','fh0141','jl1252','sk1386', 'ak0956','sk1390','sk1458','sk1313','ak0934','vm0377','nm0618','sm1640','sm1907','gn0108','pr0353','dr0609','ms1500','aos0040','ds0814', 'av0659','nv0234','hy0232']\n",
        "\n",
        "# the len_group numbers sum upto 30\n",
        "len_group =[5, 6, 4, 6, 5, 4]\n",
        "result = []\n",
        "for length in len_group:\n",
        "  # generating a sample of length in len_group  \n",
        "  group = random.sample(studnet_list, length)\n",
        "  # remove those elements from the studnet_list that are in group sample,\n",
        "  # so that the next time those elements will not be in another sample. \n",
        "  studnet_list = list(set(studnet_list) ^ set(group))\n",
        "  # Adding the random sample to a resultant 2d array.\n",
        "  result = result + [group]\n",
        "    \n",
        "# printing the 6 groups.\n",
        "for row in result:\n",
        "    print(row, end= '\\n')\n"
      ]
    },
    {
      "cell_type": "markdown",
      "metadata": {
        "id": "poLJr_ZsC7LS"
      },
      "source": [
        "(9) Write a Python program to find the duplicate elements in a given array of integers. Return -1 If there are no such elements. (5 points)"
      ]
    },
    {
      "cell_type": "code",
      "execution_count": 15,
      "metadata": {
        "colab": {
          "base_uri": "https://localhost:8080/"
        },
        "id": "qfV3zn3UC7LT",
        "outputId": "78c66258-8b23-48e0-9069-ca2171be560e"
      },
      "outputs": [
        {
          "output_type": "stream",
          "name": "stdout",
          "text": [
            "1, 4, 5, 6, "
          ]
        }
      ],
      "source": [
        "# write your answer here\n",
        "from numpy.core.defchararray import endswith\n",
        "# write your answer here\n",
        "import numpy as np\n",
        "arr = np.array([1, 2, 6, 5, 6, 4, 5, 6, 5, 4, 7, 8, 3, 6, 1])\n",
        "#arr = np.array([2, 3, 4, 5])\n",
        "\n",
        "flag = 0\n",
        "\n",
        "for num in set(arr):\n",
        "  # get the count of occurences that are greater than 1.\n",
        "  if np.count_nonzero(arr == num) > 1:\n",
        "    flag = 1\n",
        "    print(num, end = ', ')\n",
        "\n",
        "# if there are no duplicate elements, tehn we print '-1'.\n",
        "if flag == 0:\n",
        "  print(\"-1\")\n"
      ]
    },
    {
      "cell_type": "markdown",
      "metadata": {
        "id": "vza9Tr_VC7LT"
      },
      "source": [
        "(10) Write a Python program to select all the Sundays of a specified year. (5 extra points)"
      ]
    },
    {
      "cell_type": "code",
      "execution_count": 16,
      "metadata": {
        "colab": {
          "base_uri": "https://localhost:8080/"
        },
        "id": "czL9K7AKC7LT",
        "outputId": "2371c9e6-7020-4acd-c5df-ee85324746ba"
      },
      "outputs": [
        {
          "name": "stdout",
          "output_type": "stream",
          "text": [
            "Enter the year you want to get Sundays of: 2026\n"
          ]
        },
        {
          "output_type": "execute_result",
          "data": {
            "text/plain": [
              "['04-January-2026',\n",
              " '11-January-2026',\n",
              " '18-January-2026',\n",
              " '25-January-2026',\n",
              " '01-February-2026',\n",
              " '08-February-2026',\n",
              " '15-February-2026',\n",
              " '22-February-2026',\n",
              " '01-March-2026',\n",
              " '08-March-2026',\n",
              " '15-March-2026',\n",
              " '22-March-2026',\n",
              " '29-March-2026',\n",
              " '05-April-2026',\n",
              " '12-April-2026',\n",
              " '19-April-2026',\n",
              " '26-April-2026',\n",
              " '03-May-2026',\n",
              " '10-May-2026',\n",
              " '17-May-2026',\n",
              " '24-May-2026',\n",
              " '31-May-2026',\n",
              " '07-June-2026',\n",
              " '14-June-2026',\n",
              " '21-June-2026',\n",
              " '28-June-2026',\n",
              " '05-July-2026',\n",
              " '12-July-2026',\n",
              " '19-July-2026',\n",
              " '26-July-2026',\n",
              " '02-August-2026',\n",
              " '09-August-2026',\n",
              " '16-August-2026',\n",
              " '23-August-2026',\n",
              " '30-August-2026',\n",
              " '06-September-2026',\n",
              " '13-September-2026',\n",
              " '20-September-2026',\n",
              " '27-September-2026',\n",
              " '04-October-2026',\n",
              " '11-October-2026',\n",
              " '18-October-2026',\n",
              " '25-October-2026',\n",
              " '01-November-2026',\n",
              " '08-November-2026',\n",
              " '15-November-2026',\n",
              " '22-November-2026',\n",
              " '29-November-2026',\n",
              " '06-December-2026',\n",
              " '13-December-2026',\n",
              " '20-December-2026',\n",
              " '27-December-2026']"
            ]
          },
          "metadata": {},
          "execution_count": 16
        }
      ],
      "source": [
        "# write your answer here\n",
        "import pandas as pd\n",
        "\n",
        "def all_sundays(year):\n",
        "  # date_range(): we specify year and frequency and strftime to determine the output format.\n",
        "  return pd.date_range(start=str(year), end=str(year+1), freq='W-SUN').strftime('%d-%B-%Y').tolist()\n",
        "\n",
        "year = int(input(\"Enter the year you want to get Sundays of: \"))\n",
        "all_sundays(year)\n"
      ]
    }
  ],
  "metadata": {
    "colab": {
      "collapsed_sections": [],
      "name": "lab_assignment_01.ipynb",
      "provenance": [],
      "include_colab_link": true
    },
    "kernelspec": {
      "display_name": "Python 3",
      "language": "python",
      "name": "python3"
    },
    "language_info": {
      "codemirror_mode": {
        "name": "ipython",
        "version": 3
      },
      "file_extension": ".py",
      "mimetype": "text/x-python",
      "name": "python",
      "nbconvert_exporter": "python",
      "pygments_lexer": "ipython3",
      "version": "3.8.5"
    }
  },
  "nbformat": 4,
  "nbformat_minor": 0
}