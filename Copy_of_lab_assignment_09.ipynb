{
  "cells": [
    {
      "cell_type": "markdown",
      "metadata": {
        "id": "view-in-github",
        "colab_type": "text"
      },
      "source": [
        "<a href=\"https://colab.research.google.com/github/tk03145/tharun_INFO5502_SPRING2022/blob/main/Copy_of_lab_assignment_09.ipynb\" target=\"_parent\"><img src=\"https://colab.research.google.com/assets/colab-badge.svg\" alt=\"Open In Colab\"/></a>"
      ]
    },
    {
      "cell_type": "markdown",
      "metadata": {
        "id": "4chrCgV9VmSE"
      },
      "source": [
        "## The ninth Lab-assignment (04/14/2022, 50 points in total)"
      ]
    },
    {
      "cell_type": "markdown",
      "metadata": {
        "id": "-kwHG85HVmSG"
      },
      "source": [
        "The purpose of this assignment is to practice different Hypothesis Testing."
      ]
    },
    {
      "cell_type": "markdown",
      "metadata": {
        "id": "6Fr9PGODVmSG"
      },
      "source": [
        "### Question 1 (15 points) \n",
        "\n",
        "During the 1980s, the general consensus is that about 5% of the nation’s children had autism. Some claimed that increases certain chemicals in the environment has led to an increase in autism. \n",
        "\n",
        "(1) Write an appropriate hypothesis test for this situation (5 points).  \n",
        "\n",
        "(2) Give an appropriate test for this hypothesis, stating what are the necessary conditions for performing the test (5 points). \n",
        "\n",
        "(3) A recent study examined 384 children and found that 46 showed signs of autism. Perform a test of the hypothesis and state the p-value (5 points). "
      ]
    },
    {
      "cell_type": "code",
      "execution_count": null,
      "metadata": {
        "id": "pgx3p-P0VmSH"
      },
      "outputs": [],
      "source": [
        "# You answer here\n",
        "\n"
      ]
    },
    {
      "cell_type": "code",
      "execution_count": null,
      "metadata": {
        "id": "8Z4Tnp0vVmSH"
      },
      "outputs": [],
      "source": [
        "# your code here\n",
        "\n",
        "\n"
      ]
    },
    {
      "cell_type": "markdown",
      "metadata": {
        "id": "NcYZoFGaVmSH"
      },
      "source": [
        "### Question 2 (15 points) \n",
        "\n",
        "National data in the 1960s showed that about 44% of the adult population had never smoked. \n",
        "\n",
        "(1) State a null and alternative hypothesis to test that the fraction of the 1995 population of adults that had never smoked had increased (5 points).  \n",
        "\n",
        "(2) A national random sample of 891 adults were interviewed and 463 stated that they had never smoked. Perform a z-test of the hypothesis and give an approriate p-value (5 points). \n",
        "\n",
        "(3) Create a 98% confidence interval for the proportion of adults who had never been smokers (5 points). "
      ]
    },
    {
      "cell_type": "code",
      "execution_count": null,
      "metadata": {
        "id": "MJ6dXsveVmSI"
      },
      "outputs": [],
      "source": [
        "# You answer here"
      ]
    },
    {
      "cell_type": "code",
      "execution_count": null,
      "metadata": {
        "id": "cQsSFmKjVmSI"
      },
      "outputs": [],
      "source": [
        "# your code here"
      ]
    },
    {
      "cell_type": "markdown",
      "metadata": {
        "id": "-3cTkmkKVmSI"
      },
      "source": [
        "### Question 3 (15 points) \n",
        "In this problem,we will examine the sugar content of several national brands of cereals, here measured as a percentage of weight.\n",
        "\n",
        "![assignmen_9.png](attachment:assignmen_9.png)\n",
        "\n",
        "(1) Give a summary of these two datasets (5 points). \n",
        "\n",
        "(2) Create side-by-side boxplots and interpret what you see (5 points). \n",
        "\n",
        "(3) Use python to create a 95% confidence interval for the difference in mean sugar content and explain your result (5 points). "
      ]
    },
    {
      "cell_type": "code",
      "execution_count": null,
      "metadata": {
        "colab": {
          "base_uri": "https://localhost:8080/",
          "height": 1000
        },
        "id": "pI3HS7XWVmSJ",
        "outputId": "9d4473e4-f7ca-4ddf-ffcf-c68aa38dc0d6"
      },
      "outputs": [
        {
          "output_type": "stream",
          "name": "stdout",
          "text": [
            "Children\n",
            "-------\n",
            "Summary\n",
            "-------\n",
            "Mean                : 46.8000\n",
            "Median              : 45.9000\n",
            "Mode                : [44.]\n",
            "Standard Deviation  : 6.2472\n",
            "Variance            : 39.0274\n",
            "\n",
            "Adults\n",
            "-------\n",
            "Summary\n",
            "-------\n",
            "Mean                : 10.1690\n",
            "Median              : 8.1000\n",
            "Mode                : [4.1]\n",
            "Standard Deviation  : 7.3457\n",
            "Variance            : 53.9587\n",
            "\n",
            "\n",
            "We can observe from the summary data that adults have a bigger standard deviation.\n",
            "When compared to youngsters, this means they have a large divergence from the mean.\n",
            "Furthermore, the mean of adults is significantly lower than that of children.\n",
            "\n",
            "\n",
            "================== (2) ===========================\n"
          ]
        },
        {
          "output_type": "stream",
          "name": "stderr",
          "text": [
            "/usr/local/lib/python3.7/dist-packages/matplotlib/cbook/__init__.py:1376: VisibleDeprecationWarning: Creating an ndarray from ragged nested sequences (which is a list-or-tuple of lists-or-tuples-or ndarrays with different lengths or shapes) is deprecated. If you meant to do this, you must specify 'dtype=object' when creating the ndarray.\n",
            "  X = np.atleast_1d(X.T if isinstance(X, np.ndarray) else np.asarray(X))\n"
          ]
        },
        {
          "output_type": "display_data",
          "data": {
            "text/plain": [
              "<Figure size 648x504 with 1 Axes>"
            ],
            "image/png": "[encoded data removed]"
          },
          "metadata": {
            "needs_background": "light"
          }
        },
        {
          "output_type": "stream",
          "name": "stdout",
          "text": [
            "The adults' box plan is clearly longer than the children's. \n",
            "This might indicate that there is a significant variation in sugar content between adults and children.\n",
            "\n",
            "\n",
            "================== (3) ===========================\n",
            "-----------------------\n",
            "95% Confidence Interval\n",
            "-----------------------\n",
            "Children:  (34.555734866088045, 59.04426513391196)\n",
            "Adult   :  (-4.228259682928753, 24.56619071741151)\n",
            "\n",
            "   We can be 95% confident that:\n",
            "1) The mean sugar content for Children is between 35.56 and 59.04\n",
            "2) The mean sugar content for adults is between -4.23 and 24.57 \n",
            "\n",
            "================== END ===========================\n"
          ]
        }
      ],
      "source": [
        "# your code here\n",
        "import numpy as np\n",
        "import matplotlib.pyplot as plt\n",
        "from scipy import stats\n",
        "\n",
        "child = np.array([40.3, 55.0, 45.7, 43.3, 50.3, 45.9, 53.5, 43.0, 44.2, 44.0, 33.6, 55.1, 48.8, \n",
        "                     50.4, 37.8, 60.3, 46.6, 47.4, 44.0])\n",
        "ad = np.array([20.0, 30.2, 2.2, 7.5, 4.4, 22.2, 16.6, 14.5, 21.4, 3.3, 10.0, 1.0, 4.4, 1.3, 8.1, \n",
        "                  6.6, 7.8, 10.6, 10.6, 16.2, 14.5, 4.1, 15.8, 4.1, 2.4, 3.5, 8.5, 4.7, 18.4])\n",
        "def summary_stats(data):\n",
        "    mean, median, mode, std, var = np.mean(data), np.median(data), stats.mode(data)[0], np.std(data), np.var(data)\n",
        "    print('-------')\n",
        "    print(\"Summary\")\n",
        "    print('-------')\n",
        "    print(f\"Mean                : {mean:.4f}\")\n",
        "    print(f\"Median              : {median:.4f}\")\n",
        "    print(f\"Mode                : {mode}\")\n",
        "    print(f\"Standard Deviation  : {std:.4f}\")\n",
        "    print(f\"Variance            : {var:.4f}\")\n",
        "print(\"Children\")\n",
        "summary_stats(child)\n",
        "print(\"\\nAdults\")\n",
        "summary_stats(ad)\n",
        "print('''\\n\\nWe can observe from the summary data that adults have a bigger standard deviation.\n",
        "When compared to youngsters, this means they have a large divergence from the mean.\n",
        "Furthermore, the mean of adults is significantly lower than that of children.''')\n",
        "\n",
        "print(\"\\n\\n================== (2) ===========================\")\n",
        "plt.figure(figsize = (9, 7))\n",
        "plt.boxplot([child, ad], positions = [2, 3], labels = ['Children', 'Adults'])\n",
        "plt.title(' Boxplot')\n",
        "plt.show()\n",
        "print('''The adults' box plan is clearly longer than the children's. \n",
        "This might indicate that there is a significant variation in sugar content between adults and children.''')\n",
        "print(\"\\n\\n================== (3) ===========================\")\n",
        "print(\"-----------------------\")\n",
        "print(\"95% Confidence Interval\")\n",
        "print(\"-----------------------\")\n",
        "child_95 = stats.norm.interval(0.95, np.mean(child), np.std(child))\n",
        "adult_95 = stats.norm.interval(0.95, np.mean(ad), np.std(ad))\n",
        "print(f\"Children:  {child_95}\")\n",
        "print(f\"Adult   :  {adult_95}\")\n",
        "print(\"\"\"\\n   We can be 95% confident that:\n",
        "1) The mean sugar content for Children is between 35.56 and 59.04\n",
        "2) The mean sugar content for adults is between -4.23 and 24.57 \"\"\")\n",
        "print(\"\\n================== END ===========================\")\n",
        "\n"
      ]
    },
    {
      "cell_type": "markdown",
      "metadata": {
        "id": "rM-FgzpOVmSJ"
      },
      "source": [
        "### Question 4 (15 points, with 10 extra point included) A/B Testing"
      ]
    },
    {
      "cell_type": "markdown",
      "metadata": {
        "id": "LdbcZ9e2VmSJ"
      },
      "source": [
        "Punishment for crime has many [philosophical justifications](http://plato.stanford.edu/entries/punishment/#ThePun).  An important one is that fear of punishment may *deter* people from committing crimes.\n",
        "\n",
        "In the United States, some jurisdictions execute people who are convicted of particularly serious crimes, such as murder.  This punishment is called the *death penalty* or *capital punishment*.  The death penalty is controversial, and deterrence has been one focal point of the debate.  There are other reasons to support or oppose the death penalty, but in this project we'll focus on deterrence.\n",
        "\n",
        "The key question about deterrence is:\n",
        "\n",
        "> Through our exploration, does instituting a death penalty for murder actually reduce the number of murders?\n",
        "\n",
        "You might have a strong intuition in one direction, but the evidence turns out to be surprisingly complex.  Different sides have variously argued that the death penalty has no deterrent effect and that each execution prevents 8 murders, all using statistical arguments!  We'll try to come to our own conclusion.\n",
        "\n",
        "#### The data\n",
        "\n",
        "The main data source for this lab comes from a [paper](http://cjlf.org/deathpenalty/DezRubShepDeterFinal.pdf) by three researchers, Dezhbakhsh, Rubin, and Shepherd.  The dataset contains rates of various violent crimes for every year 1960-2003 (44 years) in every US state.  The researchers compiled the data from the FBI's Uniform Crime Reports.\n",
        "\n",
        "Since crimes are committed by people, not states, we need to account for the number of people in each state when we're looking at state-level data.  Murder rates are calculated as follows:\n",
        "\n",
        "$$\\text{murder rate for state X in year Y} = \\frac{\\text{number of murders in state X in year Y}}{\\text{population in state X in year Y}}*100000$$\n",
        "\n",
        "(Murder is rare, so we multiply by 100,000 just to avoid dealing with tiny numbers.)\n",
        "\n",
        "Murder rates vary over time, and different states exhibit different trends. The rates in some states change dramatically from year to year, while others are quite stable. Let's plot a couple, just to see the variety.\n",
        "\n",
        "*Hint*: To create two lines, you will need create the table `ak_mn` with two columns of murder rates, in addition to a column of years. This table will have the following structure:\n",
        "\n",
        "| Year | Murder rate in Alaska | Murder rate in Minnesota |\n",
        "|------|-----------------------|--------------------------|\n",
        "| 1960 | 10.2                  | 1.2                      |\n",
        "| 1961 | 11.5                  | 1                        |\n",
        "| 1962 | 4.5                   | 0.9                      |\n",
        "\n",
        "<center>... (41 rows omitted)</center>\n",
        "\n",
        "Some US states have the death penalty, and others don't, and laws have changed over time. In addition to changes in murder rates, we will also consider whether the death penalty was in force in each state and each year.\n",
        "\n",
        "Using this information, we would like to investigate how the presence of the death penalty affects the murder rate of a state."
      ]
    },
    {
      "cell_type": "markdown",
      "metadata": {
        "id": "SsfazJprVmSK"
      },
      "source": [
        "(1) Use preban_rates_copy and postban_rates to create a table change_in_death_rates that contains each state's population, murder rate, and whether or not that state had the death penalty for both 1971 and 1973. (5 points)\n",
        "\n",
        "Create a table rate_means that contains the average murder rates for the states that had the death penalty and the states that didn't have the death penalty. It should have two columns: one indicating if the penalty was in place, and one that contains the average murder rate for each group.\n",
        "\n",
        "Hint: tbl_1.append(tbl_2) with create a new table that includes rows from both tbl_1 and tbl_2. Both tables must have the exactly the same columns, in the same order.\n",
        "\n",
        "(2) We want to figure out if there is a difference between the distribution of death rates in 1971 and 1973. Specifically, we want to test if murder rates were higher in 1973 than they were in 1971. You are required to conduct A/B Testing below (10 points):\n",
        "\n",
        "(2-1) Set observed_difference to the observed test statistic using the rate_means table. \n",
        "\n",
        "\n",
        "(2-2) Given a table like change_in_death_rates, a value column label, and a group column group_label, write a function that calculates the appropriate test statistic.\n",
        "\n",
        "(2-3) Write a function simulate_and_test_statistic to compute one trial of our A/B test. Your function should run a simulation and return a test statistic.\n",
        "\n",
        "(2-4) Simulate 5000 trials of our A/B test and store the test statistics in an array called differences.\n",
        "\n",
        "(2-5) Find the p-value for your test and assign it to empirical_P.\n",
        "\n",
        "(2-6) Using a 5% P-value cutoff, draw a conclusion about the null and alternative hypotheses. Describe your findings using simple, non-technical language. What does your analysis tell you about murder rates after the death penalty was suspended? What can you claim about causation from your statistical analysis?\n"
      ]
    },
    {
      "cell_type": "code",
      "execution_count": null,
      "metadata": {
        "colab": {
          "base_uri": "https://localhost:8080/",
          "height": 392
        },
        "id": "R1UpLIR7VmSK",
        "outputId": "77a0d1ea-e543-4be1-a871-be47a181e78d"
      },
      "outputs": [
        {
          "output_type": "execute_result",
          "data": {
            "text/plain": [
              "State  | Year | Population | Murder Rate\n",
              "Alaska | 1960 | 226,167    | 10.2\n",
              "Alaska | 1961 | 234,000    | 11.5\n",
              "Alaska | 1962 | 246,000    | 4.5\n",
              "Alaska | 1963 | 248,000    | 6.5\n",
              "Alaska | 1964 | 250,000    | 10.4\n",
              "Alaska | 1965 | 253,000    | 6.3\n",
              "Alaska | 1966 | 272,000    | 12.9\n",
              "Alaska | 1967 | 272,000    | 9.6\n",
              "Alaska | 1968 | 277,000    | 10.5\n",
              "Alaska | 1969 | 282,000    | 10.6\n",
              "... (2190 rows omitted)"
            ],
            "text/html": [
              "<table border=\"1\" class=\"dataframe\">\n",
              "    <thead>\n",
              "        <tr>\n",
              "            <th>State</th> <th>Year</th> <th>Population</th> <th>Murder Rate</th>\n",
              "        </tr>\n",
              "    </thead>\n",
              "    <tbody>\n",
              "        <tr>\n",
              "            <td>Alaska</td> <td>1960</td> <td>226,167   </td> <td>10.2       </td>\n",
              "        </tr>\n",
              "        <tr>\n",
              "            <td>Alaska</td> <td>1961</td> <td>234,000   </td> <td>11.5       </td>\n",
              "        </tr>\n",
              "        <tr>\n",
              "            <td>Alaska</td> <td>1962</td> <td>246,000   </td> <td>4.5        </td>\n",
              "        </tr>\n",
              "        <tr>\n",
              "            <td>Alaska</td> <td>1963</td> <td>248,000   </td> <td>6.5        </td>\n",
              "        </tr>\n",
              "        <tr>\n",
              "            <td>Alaska</td> <td>1964</td> <td>250,000   </td> <td>10.4       </td>\n",
              "        </tr>\n",
              "        <tr>\n",
              "            <td>Alaska</td> <td>1965</td> <td>253,000   </td> <td>6.3        </td>\n",
              "        </tr>\n",
              "        <tr>\n",
              "            <td>Alaska</td> <td>1966</td> <td>272,000   </td> <td>12.9       </td>\n",
              "        </tr>\n",
              "        <tr>\n",
              "            <td>Alaska</td> <td>1967</td> <td>272,000   </td> <td>9.6        </td>\n",
              "        </tr>\n",
              "        <tr>\n",
              "            <td>Alaska</td> <td>1968</td> <td>277,000   </td> <td>10.5       </td>\n",
              "        </tr>\n",
              "        <tr>\n",
              "            <td>Alaska</td> <td>1969</td> <td>282,000   </td> <td>10.6       </td>\n",
              "        </tr>\n",
              "    </tbody>\n",
              "</table>\n",
              "<p>... (2190 rows omitted)</p>"
            ]
          },
          "metadata": {},
          "execution_count": 16
        }
      ],
      "source": [
        "import numpy as np\n",
        "from datascience import *\n",
        "import matplotlib\n",
        "import matplotlib.pyplot as plt\n",
        "ab_test_order = make_array(7,5,4,3,2,1)\n",
        "mr= Table.read_table('crime_rates.csv').select('State', 'Year', 'Population', 'Murder Rate')\n",
        "mr.set_format(\"Population\", NumberFormatter)\n",
        "\n"
      ]
    },
    {
      "cell_type": "code",
      "source": [
        "ak = mr.where('State', 'Alaska').drop('State', 'Population').relabeled(1, 'Murder rate in Alaska')\n",
        "mn = mr.where('State', 'Minnesota').drop('State', 'Population').relabeled(1, 'Murder rate in Minnesota')\n",
        "ak_mn = ak.join(\"Year\", mn)\n",
        "ak_mn"
      ],
      "metadata": {
        "colab": {
          "base_uri": "https://localhost:8080/",
          "height": 392
        },
        "id": "uIim3io4fuWH",
        "outputId": "56ba725a-c669-4f2e-febf-8f7fbb971b48"
      },
      "execution_count": null,
      "outputs": [
        {
          "output_type": "execute_result",
          "data": {
            "text/plain": [
              "Year | Murder rate in Alaska | Murder rate in Minnesota\n",
              "1960 | 10.2                  | 1.2\n",
              "1961 | 11.5                  | 1\n",
              "1962 | 4.5                   | 0.9\n",
              "1963 | 6.5                   | 1.2\n",
              "1964 | 10.4                  | 1.4\n",
              "1965 | 6.3                   | 1.4\n",
              "1966 | 12.9                  | 2.2\n",
              "1967 | 9.6                   | 1.6\n",
              "1968 | 10.5                  | 2.2\n",
              "1969 | 10.6                  | 1.9\n",
              "... (34 rows omitted)"
            ],
            "text/html": [
              "<table border=\"1\" class=\"dataframe\">\n",
              "    <thead>\n",
              "        <tr>\n",
              "            <th>Year</th> <th>Murder rate in Alaska</th> <th>Murder rate in Minnesota</th>\n",
              "        </tr>\n",
              "    </thead>\n",
              "    <tbody>\n",
              "        <tr>\n",
              "            <td>1960</td> <td>10.2                 </td> <td>1.2                     </td>\n",
              "        </tr>\n",
              "        <tr>\n",
              "            <td>1961</td> <td>11.5                 </td> <td>1                       </td>\n",
              "        </tr>\n",
              "        <tr>\n",
              "            <td>1962</td> <td>4.5                  </td> <td>0.9                     </td>\n",
              "        </tr>\n",
              "        <tr>\n",
              "            <td>1963</td> <td>6.5                  </td> <td>1.2                     </td>\n",
              "        </tr>\n",
              "        <tr>\n",
              "            <td>1964</td> <td>10.4                 </td> <td>1.4                     </td>\n",
              "        </tr>\n",
              "        <tr>\n",
              "            <td>1965</td> <td>6.3                  </td> <td>1.4                     </td>\n",
              "        </tr>\n",
              "        <tr>\n",
              "            <td>1966</td> <td>12.9                 </td> <td>2.2                     </td>\n",
              "        </tr>\n",
              "        <tr>\n",
              "            <td>1967</td> <td>9.6                  </td> <td>1.6                     </td>\n",
              "        </tr>\n",
              "        <tr>\n",
              "            <td>1968</td> <td>10.5                 </td> <td>2.2                     </td>\n",
              "        </tr>\n",
              "        <tr>\n",
              "            <td>1969</td> <td>10.6                 </td> <td>1.9                     </td>\n",
              "        </tr>\n",
              "    </tbody>\n",
              "</table>\n",
              "<p>... (34 rows omitted)</p>"
            ]
          },
          "metadata": {},
          "execution_count": 17
        }
      ]
    },
    {
      "cell_type": "code",
      "source": [
        "from ipywidgets import interact, interactive, fixed, interact_manual\n",
        "import ipywidgets as widgets\n",
        "def state(state1, state2):\n",
        "    state1_table = mr.where('State', state1).drop('State', 'Population').relabeled(1, 'Murder rate in {}'.format(state1))\n",
        "    state2_table = mr.where('State', state2).drop('State', 'Population').relabeled(1, 'Murder rate in {}'.format(state2))\n",
        "    s1_s2 = state1_table.join('Year', state2_table)\n",
        "    s1_s2.plot('Year')\n",
        "    plt.show()\n",
        "states_array = mr.group('State').column('State')\n",
        "_ = interact(state,\n",
        "             state1=widgets.Dropdown(options=list(states_array),value='California'),\n",
        "             state2=widgets.Dropdown(options=list(states_array),value='New York')\n",
        ")\n",
        "non_death_penalty_states = make_array('Alaska', 'Hawaii', 'Maine', 'Michigan', 'Wisconsin', 'Minnesota')\n",
        "\n",
        "def had_death_penalty_in_1971(state):\n",
        "    \"\"\"Returns True if the argument is the name of a state that had the death penalty in 1971.\"\"\"\n",
        "states = mr.group('State').select('State')\n",
        "death_penalty = states.with_column('Death Penalty', states.apply(had_death_penalty_in_1971, 0))\n",
        "death_penalty\n",
        "preban_rates = mr.where(\"Year\", 1971).join(\"State\", death_penalty.where(\"Death Penalty\", True))\n",
        "preban_rates\n",
        "postban_rates = mr.where(\"Year\", 1973).join(\"State\", preban_rates).select(\"State\", \"Year\", \"Population\", \"mr\")\n",
        "postban_rates = postban_rates.with_column(\"Death Penalty\", False)\n",
        "postban_rates = postban_rates.sort(\"State\")\n",
        "preban_rates_copy = preban_rates.copy()\n",
        "change_in_death_rates = preban_rates_copy.append(postban_rates)\n",
        "change_in_death_rates\n",
        "new_table = change_in_death_rates.group(\"Death Penalty\", np.average)\n",
        "rate_means = new_table.select(\"Death Penalty\", \"Murder Rate average\")\n",
        "rate_means\n",
        "observed_difference = rate_means.column(\"Murder Rate average\").item(0) - rate_means.column(\"Murder Rate average\").item(1)\n",
        "observed_difference\n",
        "def find_test_stat(table, label, group_label):\n",
        "   new_table = table.group(group_label, np.average)\n",
        "   return new_table.column(label + \" average\").item(0) - new_table.column(label + \" average\").item(1)\n",
        "\n",
        "find_test_stat(change_in_death_rates, \"Murder Rate\", \"Death Penalty\")\n",
        "def simulate_and_test_statistic(table, label, group_label):\n",
        "    shuffled_column = table.sample(with_replacement = False).column(group_label)\n",
        "    new_table = table.drop(group_label).with_column(\"shuffled label\", shuffled_column)\n",
        "    return find_test_stat(new_table, label, \"shuffled label\")\n",
        "simulate_and_test_statistic(change_in_death_rates, \"Murder Rate\", \"Death Penalty\")\n",
        "differences = make_array()\n",
        "for i in np.arange(5000):\n",
        "   test = simulate_and_test_statistic(change_in_death_rates, \"Murder Rate\", \"Death Penalty\")\n",
        "differences = np.append(differences, test)\n",
        "Table().with_column('Difference Between Group Means', differences).hist()\n",
        "plt.scatter(observed_difference, 0, color='red', s=30, zorder=2);\n",
        "empirical_P = sum(differences >= observed_difference) / len(differences)\n",
        "empirical_P\n",
        "print(\"Running all tests...\")"
      ],
      "metadata": {
        "colab": {
          "base_uri": "https://localhost:8080/",
          "height": 691,
          "referenced_widgets": [
            "7eaa710bb6eb4cbe9cb43192668be172",
            "023a3ab259d84e9fbdd23d17a440fe02",
            "e6259c0cd9d34dc6a8c608292f2d0d99",
            "a9a6e926da684d36a602fe251a62c6c3",
            "ccfe92e641e346bb82f245b448b62d95",
            "743dcff8d9c64eb9a76f0c0e5253694a",
            "68261894d4ef473397c8d4e2f9d70778",
            "73341adbb61346c2a8c31e8b6ff1da16",
            "46d7f5d369634a058bf9703ec2b3e6a4",
            "afaff56715644e5bb9a8a5ff8d2d990b"
          ]
        },
        "id": "-T3kVMVPgg3Z",
        "outputId": "9f1afeb3-795d-4ae5-a8fd-add3b0102caf"
      },
      "execution_count": null,
      "outputs": [
        {
          "output_type": "display_data",
          "data": {
            "text/plain": [
              "interactive(children=(Dropdown(description='state1', index=4, options=('Alabama', 'Alaska', 'Arizona', 'Arkans…"
            ],
            "application/vnd.jupyter.widget-view+json": {
              "version_major": 2,
              "version_minor": 0,
              "model_id": "7eaa710bb6eb4cbe9cb43192668be172"
            }
          },
          "metadata": {}
        },
        {
          "output_type": "error",
          "ename": "AttributeError",
          "evalue": "ignored",
          "traceback": [
            "\u001b[0;31m---------------------------------------------------------------------------\u001b[0m",
            "\u001b[0;31mAttributeError\u001b[0m                            Traceback (most recent call last)",
            "\u001b[0;32m<ipython-input-19-4d47100dcf2d>\u001b[0m in \u001b[0;36m<module>\u001b[0;34m()\u001b[0m\n\u001b[1;32m     21\u001b[0m \u001b[0mpreban_rates\u001b[0m \u001b[0;34m=\u001b[0m \u001b[0mmr\u001b[0m\u001b[0;34m.\u001b[0m\u001b[0mwhere\u001b[0m\u001b[0;34m(\u001b[0m\u001b[0;34m\"Year\"\u001b[0m\u001b[0;34m,\u001b[0m \u001b[0;36m1971\u001b[0m\u001b[0;34m)\u001b[0m\u001b[0;34m.\u001b[0m\u001b[0mjoin\u001b[0m\u001b[0;34m(\u001b[0m\u001b[0;34m\"State\"\u001b[0m\u001b[0;34m,\u001b[0m \u001b[0mdeath_penalty\u001b[0m\u001b[0;34m.\u001b[0m\u001b[0mwhere\u001b[0m\u001b[0;34m(\u001b[0m\u001b[0;34m\"Death Penalty\"\u001b[0m\u001b[0;34m,\u001b[0m \u001b[0;32mTrue\u001b[0m\u001b[0;34m)\u001b[0m\u001b[0;34m)\u001b[0m\u001b[0;34m\u001b[0m\u001b[0;34m\u001b[0m\u001b[0m\n\u001b[1;32m     22\u001b[0m \u001b[0mpreban_rates\u001b[0m\u001b[0;34m\u001b[0m\u001b[0;34m\u001b[0m\u001b[0m\n\u001b[0;32m---> 23\u001b[0;31m \u001b[0mpostban_rates\u001b[0m \u001b[0;34m=\u001b[0m \u001b[0mmr\u001b[0m\u001b[0;34m.\u001b[0m\u001b[0mwhere\u001b[0m\u001b[0;34m(\u001b[0m\u001b[0;34m\"Year\"\u001b[0m\u001b[0;34m,\u001b[0m \u001b[0;36m1973\u001b[0m\u001b[0;34m)\u001b[0m\u001b[0;34m.\u001b[0m\u001b[0mjoin\u001b[0m\u001b[0;34m(\u001b[0m\u001b[0;34m\"State\"\u001b[0m\u001b[0;34m,\u001b[0m \u001b[0mpreban_rates\u001b[0m\u001b[0;34m)\u001b[0m\u001b[0;34m.\u001b[0m\u001b[0mselect\u001b[0m\u001b[0;34m(\u001b[0m\u001b[0;34m\"State\"\u001b[0m\u001b[0;34m,\u001b[0m \u001b[0;34m\"Year\"\u001b[0m\u001b[0;34m,\u001b[0m \u001b[0;34m\"Population\"\u001b[0m\u001b[0;34m,\u001b[0m \u001b[0;34m\"mr\"\u001b[0m\u001b[0;34m)\u001b[0m\u001b[0;34m\u001b[0m\u001b[0;34m\u001b[0m\u001b[0m\n\u001b[0m\u001b[1;32m     24\u001b[0m \u001b[0mpostban_rates\u001b[0m \u001b[0;34m=\u001b[0m \u001b[0mpostban_rates\u001b[0m\u001b[0;34m.\u001b[0m\u001b[0mwith_column\u001b[0m\u001b[0;34m(\u001b[0m\u001b[0;34m\"Death Penalty\"\u001b[0m\u001b[0;34m,\u001b[0m \u001b[0;32mFalse\u001b[0m\u001b[0;34m)\u001b[0m\u001b[0;34m\u001b[0m\u001b[0;34m\u001b[0m\u001b[0m\n\u001b[1;32m     25\u001b[0m \u001b[0mpostban_rates\u001b[0m \u001b[0;34m=\u001b[0m \u001b[0mpostban_rates\u001b[0m\u001b[0;34m.\u001b[0m\u001b[0msort\u001b[0m\u001b[0;34m(\u001b[0m\u001b[0;34m\"State\"\u001b[0m\u001b[0;34m)\u001b[0m\u001b[0;34m\u001b[0m\u001b[0;34m\u001b[0m\u001b[0m\n",
            "\u001b[0;32m/usr/local/lib/python3.7/dist-packages/datascience/tables.py\u001b[0m in \u001b[0;36mjoin\u001b[0;34m(self, column_label, other, other_label)\u001b[0m\n\u001b[1;32m   1240\u001b[0m         \u001b[0;36m1\u001b[0m    \u001b[0;34m|\u001b[0m \u001b[0;36m10\u001b[0m   \u001b[0;34m|\u001b[0m \u001b[0;36m6\u001b[0m\u001b[0;34m\u001b[0m\u001b[0;34m\u001b[0m\u001b[0m\n\u001b[1;32m   1241\u001b[0m         \"\"\"\n\u001b[0;32m-> 1242\u001b[0;31m         \u001b[0;32mif\u001b[0m \u001b[0mself\u001b[0m\u001b[0;34m.\u001b[0m\u001b[0mnum_rows\u001b[0m \u001b[0;34m==\u001b[0m \u001b[0;36m0\u001b[0m \u001b[0;32mor\u001b[0m \u001b[0mother\u001b[0m\u001b[0;34m.\u001b[0m\u001b[0mnum_rows\u001b[0m \u001b[0;34m==\u001b[0m \u001b[0;36m0\u001b[0m\u001b[0;34m:\u001b[0m\u001b[0;34m\u001b[0m\u001b[0;34m\u001b[0m\u001b[0m\n\u001b[0m\u001b[1;32m   1243\u001b[0m             \u001b[0;32mreturn\u001b[0m \u001b[0;32mNone\u001b[0m\u001b[0;34m\u001b[0m\u001b[0;34m\u001b[0m\u001b[0m\n\u001b[1;32m   1244\u001b[0m         \u001b[0;32mif\u001b[0m \u001b[0;32mnot\u001b[0m \u001b[0mother_label\u001b[0m\u001b[0;34m:\u001b[0m\u001b[0;34m\u001b[0m\u001b[0;34m\u001b[0m\u001b[0m\n",
            "\u001b[0;31mAttributeError\u001b[0m: 'NoneType' object has no attribute 'num_rows'"
          ]
        },
        {
          "output_type": "display_data",
          "data": {
            "text/plain": [
              "<Figure size 432x288 with 1 Axes>"
            ],
            "image/png": "[encoded data removed]"
          },
          "metadata": {
            "needs_background": "light"
          }
        }
      ]
    }
  ],
  "metadata": {
    "kernelspec": {
      "display_name": "Python 3",
      "language": "python",
      "name": "python3"
    },
    "language_info": {
      "codemirror_mode": {
        "name": "ipython",
        "version": 3
      },
      "file_extension": ".py",
      "mimetype": "text/x-python",
      "name": "python",
      "nbconvert_exporter": "python",
      "pygments_lexer": "ipython3",
      "version": "3.8.5"
    },
    "colab": {
      "name": "Copy of lab_assignment_09.ipynb",
      "provenance": [],
      "collapsed_sections": [],
      "include_colab_link": true
    },
    "widgets": {
      "application/vnd.jupyter.widget-state+json": {
        "7eaa710bb6eb4cbe9cb43192668be172": {
          "model_module": "@jupyter-widgets/controls",
          "model_name": "VBoxModel",
          "model_module_version": "1.5.0",
          "state": {
            "_dom_classes": [
              "widget-interact"
            ],
            "_model_module": "@jupyter-widgets/controls",
            "_model_module_version": "1.5.0",
            "_model_name": "VBoxModel",
            "_view_count": null,
            "_view_module": "@jupyter-widgets/controls",
            "_view_module_version": "1.5.0",
            "_view_name": "VBoxView",
            "box_style": "",
            "children": [
              "IPY_MODEL_023a3ab259d84e9fbdd23d17a440fe02",
              "IPY_MODEL_e6259c0cd9d34dc6a8c608292f2d0d99",
              "IPY_MODEL_a9a6e926da684d36a602fe251a62c6c3"
            ],
            "layout": "IPY_MODEL_ccfe92e641e346bb82f245b448b62d95"
          }
        },
        "023a3ab259d84e9fbdd23d17a440fe02": {
          "model_module": "@jupyter-widgets/controls",
          "model_name": "DropdownModel",
          "model_module_version": "1.5.0",
          "state": {
            "_dom_classes": [],
            "_model_module": "@jupyter-widgets/controls",
            "_model_module_version": "1.5.0",
            "_model_name": "DropdownModel",
            "_options_labels": [
              "Alabama",
              "Alaska",
              "Arizona",
              "Arkansas",
              "California",
              "Colorado",
              "Connecticut",
              "Delaware",
              "Florida",
              "Georgia",
              "Hawaii",
              "Idaho",
              "Illinois",
              "Indiana",
              "Iowa",
              "Kansas",
              "Kentucky",
              "Louisiana",
              "Maine",
              "Maryland",
              "Massachuse",
              "Michigan",
              "Minnesota",
              "Mississippi",
              "Missouri",
              "Montana",
              "Nebraska",
              "Nevada",
              "New Hampshire",
              "New Jersey",
              "New Mexico",
              "New York",
              "North Carolina",
              "North Dakota",
              "Ohio",
              "Oklahoma",
              "Oregon",
              "Pennsylvania",
              "Rhode Isla",
              "South Carolina",
              "South Dakota",
              "Tennessee",
              "Texas",
              "Utah",
              "Vermont",
              "Virginia",
              "Washington",
              "West Virginia",
              "Wisconsin",
              "Wyoming"
            ],
            "_view_count": null,
            "_view_module": "@jupyter-widgets/controls",
            "_view_module_version": "1.5.0",
            "_view_name": "DropdownView",
            "description": "state1",
            "description_tooltip": null,
            "disabled": false,
            "index": 4,
            "layout": "IPY_MODEL_743dcff8d9c64eb9a76f0c0e5253694a",
            "style": "IPY_MODEL_68261894d4ef473397c8d4e2f9d70778"
          }
        },
        "e6259c0cd9d34dc6a8c608292f2d0d99": {
          "model_module": "@jupyter-widgets/controls",
          "model_name": "DropdownModel",
          "model_module_version": "1.5.0",
          "state": {
            "_dom_classes": [],
            "_model_module": "@jupyter-widgets/controls",
            "_model_module_version": "1.5.0",
            "_model_name": "DropdownModel",
            "_options_labels": [
              "Alabama",
              "Alaska",
              "Arizona",
              "Arkansas",
              "California",
              "Colorado",
              "Connecticut",
              "Delaware",
              "Florida",
              "Georgia",
              "Hawaii",
              "Idaho",
              "Illinois",
              "Indiana",
              "Iowa",
              "Kansas",
              "Kentucky",
              "Louisiana",
              "Maine",
              "Maryland",
              "Massachuse",
              "Michigan",
              "Minnesota",
              "Mississippi",
              "Missouri",
              "Montana",
              "Nebraska",
              "Nevada",
              "New Hampshire",
              "New Jersey",
              "New Mexico",
              "New York",
              "North Carolina",
              "North Dakota",
              "Ohio",
              "Oklahoma",
              "Oregon",
              "Pennsylvania",
              "Rhode Isla",
              "South Carolina",
              "South Dakota",
              "Tennessee",
              "Texas",
              "Utah",
              "Vermont",
              "Virginia",
              "Washington",
              "West Virginia",
              "Wisconsin",
              "Wyoming"
            ],
            "_view_count": null,
            "_view_module": "@jupyter-widgets/controls",
            "_view_module_version": "1.5.0",
            "_view_name": "DropdownView",
            "description": "state2",
            "description_tooltip": null,
            "disabled": false,
            "index": 31,
            "layout": "IPY_MODEL_73341adbb61346c2a8c31e8b6ff1da16",
            "style": "IPY_MODEL_46d7f5d369634a058bf9703ec2b3e6a4"
          }
        },
        "a9a6e926da684d36a602fe251a62c6c3": {
          "model_module": "@jupyter-widgets/output",
          "model_name": "OutputModel",
          "model_module_version": "1.0.0",
          "state": {
            "_dom_classes": [],
            "_model_module": "@jupyter-widgets/output",
            "_model_module_version": "1.0.0",
            "_model_name": "OutputModel",
            "_view_count": null,
            "_view_module": "@jupyter-widgets/output",
            "_view_module_version": "1.0.0",
            "_view_name": "OutputView",
            "layout": "IPY_MODEL_afaff56715644e5bb9a8a5ff8d2d990b",
            "msg_id": "",
            "outputs": []
          }
        },
        "ccfe92e641e346bb82f245b448b62d95": {
          "model_module": "@jupyter-widgets/base",
          "model_name": "LayoutModel",
          "model_module_version": "1.2.0",
          "state": {
            "_model_module": "@jupyter-widgets/base",
            "_model_module_version": "1.2.0",
            "_model_name": "LayoutModel",
            "_view_count": null,
            "_view_module": "@jupyter-widgets/base",
            "_view_module_version": "1.2.0",
            "_view_name": "LayoutView",
            "align_content": null,
            "align_items": null,
            "align_self": null,
            "border": null,
            "bottom": null,
            "display": null,
            "flex": null,
            "flex_flow": null,
            "grid_area": null,
            "grid_auto_columns": null,
            "grid_auto_flow": null,
            "grid_auto_rows": null,
            "grid_column": null,
            "grid_gap": null,
            "grid_row": null,
            "grid_template_areas": null,
            "grid_template_columns": null,
            "grid_template_rows": null,
            "height": null,
            "justify_content": null,
            "justify_items": null,
            "left": null,
            "margin": null,
            "max_height": null,
            "max_width": null,
            "min_height": null,
            "min_width": null,
            "object_fit": null,
            "object_position": null,
            "order": null,
            "overflow": null,
            "overflow_x": null,
            "overflow_y": null,
            "padding": null,
            "right": null,
            "top": null,
            "visibility": null,
            "width": null
          }
        },
        "743dcff8d9c64eb9a76f0c0e5253694a": {
          "model_module": "@jupyter-widgets/base",
          "model_name": "LayoutModel",
          "model_module_version": "1.2.0",
          "state": {
            "_model_module": "@jupyter-widgets/base",
            "_model_module_version": "1.2.0",
            "_model_name": "LayoutModel",
            "_view_count": null,
            "_view_module": "@jupyter-widgets/base",
            "_view_module_version": "1.2.0",
            "_view_name": "LayoutView",
            "align_content": null,
            "align_items": null,
            "align_self": null,
            "border": null,
            "bottom": null,
            "display": null,
            "flex": null,
            "flex_flow": null,
            "grid_area": null,
            "grid_auto_columns": null,
            "grid_auto_flow": null,
            "grid_auto_rows": null,
            "grid_column": null,
            "grid_gap": null,
            "grid_row": null,
            "grid_template_areas": null,
            "grid_template_columns": null,
            "grid_template_rows": null,
            "height": null,
            "justify_content": null,
            "justify_items": null,
            "left": null,
            "margin": null,
            "max_height": null,
            "max_width": null,
            "min_height": null,
            "min_width": null,
            "object_fit": null,
            "object_position": null,
            "order": null,
            "overflow": null,
            "overflow_x": null,
            "overflow_y": null,
            "padding": null,
            "right": null,
            "top": null,
            "visibility": null,
            "width": null
          }
        },
        "68261894d4ef473397c8d4e2f9d70778": {
          "model_module": "@jupyter-widgets/controls",
          "model_name": "DescriptionStyleModel",
          "model_module_version": "1.5.0",
          "state": {
            "_model_module": "@jupyter-widgets/controls",
            "_model_module_version": "1.5.0",
            "_model_name": "DescriptionStyleModel",
            "_view_count": null,
            "_view_module": "@jupyter-widgets/base",
            "_view_module_version": "1.2.0",
            "_view_name": "StyleView",
            "description_width": ""
          }
        },
        "73341adbb61346c2a8c31e8b6ff1da16": {
          "model_module": "@jupyter-widgets/base",
          "model_name": "LayoutModel",
          "model_module_version": "1.2.0",
          "state": {
            "_model_module": "@jupyter-widgets/base",
            "_model_module_version": "1.2.0",
            "_model_name": "LayoutModel",
            "_view_count": null,
            "_view_module": "@jupyter-widgets/base",
            "_view_module_version": "1.2.0",
            "_view_name": "LayoutView",
            "align_content": null,
            "align_items": null,
            "align_self": null,
            "border": null,
            "bottom": null,
            "display": null,
            "flex": null,
            "flex_flow": null,
            "grid_area": null,
            "grid_auto_columns": null,
            "grid_auto_flow": null,
            "grid_auto_rows": null,
            "grid_column": null,
            "grid_gap": null,
            "grid_row": null,
            "grid_template_areas": null,
            "grid_template_columns": null,
            "grid_template_rows": null,
            "height": null,
            "justify_content": null,
            "justify_items": null,
            "left": null,
            "margin": null,
            "max_height": null,
            "max_width": null,
            "min_height": null,
            "min_width": null,
            "object_fit": null,
            "object_position": null,
            "order": null,
            "overflow": null,
            "overflow_x": null,
            "overflow_y": null,
            "padding": null,
            "right": null,
            "top": null,
            "visibility": null,
            "width": null
          }
        },
        "46d7f5d369634a058bf9703ec2b3e6a4": {
          "model_module": "@jupyter-widgets/controls",
          "model_name": "DescriptionStyleModel",
          "model_module_version": "1.5.0",
          "state": {
            "_model_module": "@jupyter-widgets/controls",
            "_model_module_version": "1.5.0",
            "_model_name": "DescriptionStyleModel",
            "_view_count": null,
            "_view_module": "@jupyter-widgets/base",
            "_view_module_version": "1.2.0",
            "_view_name": "StyleView",
            "description_width": ""
          }
        },
        "afaff56715644e5bb9a8a5ff8d2d990b": {
          "model_module": "@jupyter-widgets/base",
          "model_name": "LayoutModel",
          "model_module_version": "1.2.0",
          "state": {
            "_model_module": "@jupyter-widgets/base",
            "_model_module_version": "1.2.0",
            "_model_name": "LayoutModel",
            "_view_count": null,
            "_view_module": "@jupyter-widgets/base",
            "_view_module_version": "1.2.0",
            "_view_name": "LayoutView",
            "align_content": null,
            "align_items": null,
            "align_self": null,
            "border": null,
            "bottom": null,
            "display": null,
            "flex": null,
            "flex_flow": null,
            "grid_area": null,
            "grid_auto_columns": null,
            "grid_auto_flow": null,
            "grid_auto_rows": null,
            "grid_column": null,
            "grid_gap": null,
            "grid_row": null,
            "grid_template_areas": null,
            "grid_template_columns": null,
            "grid_template_rows": null,
            "height": null,
            "justify_content": null,
            "justify_items": null,
            "left": null,
            "margin": null,
            "max_height": null,
            "max_width": null,
            "min_height": null,
            "min_width": null,
            "object_fit": null,
            "object_position": null,
            "order": null,
            "overflow": null,
            "overflow_x": null,
            "overflow_y": null,
            "padding": null,
            "right": null,
            "top": null,
            "visibility": null,
            "width": null
          }
        }
      }
    }
  },
  "nbformat": 4,
  "nbformat_minor": 0
}